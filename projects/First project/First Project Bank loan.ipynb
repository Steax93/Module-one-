{
 "cells": [
  {
   "cell_type": "markdown",
   "id": "2a82f472",
   "metadata": {},
   "source": [
    "# Project description\n",
    "Your project is to prepare a report for a bank’s loan division. You’ll need to find out if a customer’s marital status and number of children have an impact on whether they will default on a loan. The bank already has some data on customers’ credit worthiness.\n",
    "Your report will be considered when building a credit score for a potential customer. A credit score is used to evaluate the ability of a potential borrower to repay their loan."
   ]
  },
  {
   "cell_type": "markdown",
   "id": "c0807d95",
   "metadata": {},
   "source": [
    "# Step 1. \n",
    "- Open the data file /datasets/credit_scoring_eng.csv and have a look at the general information."
   ]
  },
  {
   "cell_type": "code",
   "execution_count": 1,
   "id": "5483fe05",
   "metadata": {},
   "outputs": [],
   "source": [
    "import pandas as pd\n",
    "import seaborn as sns\n",
    "import nltk\n",
    "from nltk.stem import SnowballStemmer\n",
    "from collections import Counter\n",
    "\n",
    "data_project = pd.read_csv('D:\\credit_scoring_eng.csv')"
   ]
  },
  {
   "cell_type": "code",
   "execution_count": 2,
   "id": "26dbac91",
   "metadata": {
    "scrolled": false
   },
   "outputs": [
    {
     "data": {
      "text/html": [
       "<div>\n",
       "<style scoped>\n",
       "    .dataframe tbody tr th:only-of-type {\n",
       "        vertical-align: middle;\n",
       "    }\n",
       "\n",
       "    .dataframe tbody tr th {\n",
       "        vertical-align: top;\n",
       "    }\n",
       "\n",
       "    .dataframe thead th {\n",
       "        text-align: right;\n",
       "    }\n",
       "</style>\n",
       "<table border=\"1\" class=\"dataframe\">\n",
       "  <thead>\n",
       "    <tr style=\"text-align: right;\">\n",
       "      <th></th>\n",
       "      <th>children</th>\n",
       "      <th>days_employed</th>\n",
       "      <th>dob_years</th>\n",
       "      <th>education</th>\n",
       "      <th>education_id</th>\n",
       "      <th>family_status</th>\n",
       "      <th>family_status_id</th>\n",
       "      <th>gender</th>\n",
       "      <th>income_type</th>\n",
       "      <th>debt</th>\n",
       "      <th>total_income</th>\n",
       "      <th>purpose</th>\n",
       "    </tr>\n",
       "  </thead>\n",
       "  <tbody>\n",
       "    <tr>\n",
       "      <th>4537</th>\n",
       "      <td>0</td>\n",
       "      <td>-2108.157941</td>\n",
       "      <td>37</td>\n",
       "      <td>some college</td>\n",
       "      <td>2</td>\n",
       "      <td>married</td>\n",
       "      <td>0</td>\n",
       "      <td>F</td>\n",
       "      <td>civil servant</td>\n",
       "      <td>0</td>\n",
       "      <td>32850.990</td>\n",
       "      <td>car</td>\n",
       "    </tr>\n",
       "    <tr>\n",
       "      <th>8584</th>\n",
       "      <td>1</td>\n",
       "      <td>-3846.093845</td>\n",
       "      <td>50</td>\n",
       "      <td>secondary education</td>\n",
       "      <td>1</td>\n",
       "      <td>married</td>\n",
       "      <td>0</td>\n",
       "      <td>M</td>\n",
       "      <td>business</td>\n",
       "      <td>0</td>\n",
       "      <td>56517.269</td>\n",
       "      <td>to get a supplementary education</td>\n",
       "    </tr>\n",
       "    <tr>\n",
       "      <th>9339</th>\n",
       "      <td>1</td>\n",
       "      <td>-1172.627658</td>\n",
       "      <td>42</td>\n",
       "      <td>secondary education</td>\n",
       "      <td>1</td>\n",
       "      <td>married</td>\n",
       "      <td>0</td>\n",
       "      <td>F</td>\n",
       "      <td>employee</td>\n",
       "      <td>0</td>\n",
       "      <td>32000.993</td>\n",
       "      <td>buying a second-hand car</td>\n",
       "    </tr>\n",
       "    <tr>\n",
       "      <th>12408</th>\n",
       "      <td>0</td>\n",
       "      <td>-1203.506819</td>\n",
       "      <td>53</td>\n",
       "      <td>bachelor's degree</td>\n",
       "      <td>0</td>\n",
       "      <td>married</td>\n",
       "      <td>0</td>\n",
       "      <td>F</td>\n",
       "      <td>business</td>\n",
       "      <td>0</td>\n",
       "      <td>70923.271</td>\n",
       "      <td>building a property</td>\n",
       "    </tr>\n",
       "    <tr>\n",
       "      <th>14737</th>\n",
       "      <td>1</td>\n",
       "      <td>-2537.104317</td>\n",
       "      <td>40</td>\n",
       "      <td>secondary education</td>\n",
       "      <td>1</td>\n",
       "      <td>married</td>\n",
       "      <td>0</td>\n",
       "      <td>F</td>\n",
       "      <td>employee</td>\n",
       "      <td>0</td>\n",
       "      <td>18901.446</td>\n",
       "      <td>education</td>\n",
       "    </tr>\n",
       "  </tbody>\n",
       "</table>\n",
       "</div>"
      ],
      "text/plain": [
       "       children  days_employed  dob_years            education  education_id  \\\n",
       "4537          0   -2108.157941         37         some college             2   \n",
       "8584          1   -3846.093845         50  secondary education             1   \n",
       "9339          1   -1172.627658         42  secondary education             1   \n",
       "12408         0   -1203.506819         53    bachelor's degree             0   \n",
       "14737         1   -2537.104317         40  secondary education             1   \n",
       "\n",
       "      family_status  family_status_id gender    income_type  debt  \\\n",
       "4537        married                 0      F  civil servant     0   \n",
       "8584        married                 0      M       business     0   \n",
       "9339        married                 0      F       employee     0   \n",
       "12408       married                 0      F       business     0   \n",
       "14737       married                 0      F       employee     0   \n",
       "\n",
       "       total_income                           purpose  \n",
       "4537      32850.990                               car  \n",
       "8584      56517.269  to get a supplementary education  \n",
       "9339      32000.993          buying a second-hand car  \n",
       "12408     70923.271               building a property  \n",
       "14737     18901.446                         education  "
      ]
     },
     "execution_count": 2,
     "metadata": {},
     "output_type": "execute_result"
    }
   ],
   "source": [
    "data_project.sample(5)"
   ]
  },
  {
   "cell_type": "markdown",
   "id": "55490159",
   "metadata": {},
   "source": [
    "> For better understanding our Data i propose to change columns names ```dob_years``` and ```customer_age```. Other columns name seems clear"
   ]
  },
  {
   "cell_type": "code",
   "execution_count": 3,
   "id": "e46f1a74",
   "metadata": {},
   "outputs": [],
   "source": [
    "# Let's change some name of columns to better understandig in further with what we work\n",
    "data_project = data_project.rename(columns={'dob_years':'age','income_type':'work_types', 'total_income':'salary'})"
   ]
  },
  {
   "cell_type": "markdown",
   "id": "c6d60ea0",
   "metadata": {},
   "source": [
    "Now let's take the main information from our data(data.type, amount of rows and column .etc) by using ```info()``` method"
   ]
  },
  {
   "cell_type": "code",
   "execution_count": 4,
   "id": "fc5317ae",
   "metadata": {},
   "outputs": [
    {
     "name": "stdout",
     "output_type": "stream",
     "text": [
      "Table has 21525 rows, 12 columns  and 258300 observations in total.\n",
      "\n",
      "\n",
      "Datatypes of columns are as follow:\n",
      "----------\n",
      "<class 'pandas.core.frame.DataFrame'>\n",
      "RangeIndex: 21525 entries, 0 to 21524\n",
      "Data columns (total 12 columns):\n",
      " #   Column            Non-Null Count  Dtype  \n",
      "---  ------            --------------  -----  \n",
      " 0   children          21525 non-null  int64  \n",
      " 1   days_employed     19351 non-null  float64\n",
      " 2   age               21525 non-null  int64  \n",
      " 3   education         21525 non-null  object \n",
      " 4   education_id      21525 non-null  int64  \n",
      " 5   family_status     21525 non-null  object \n",
      " 6   family_status_id  21525 non-null  int64  \n",
      " 7   gender            21525 non-null  object \n",
      " 8   work_types        21525 non-null  object \n",
      " 9   debt              21525 non-null  int64  \n",
      " 10  salary            19351 non-null  float64\n",
      " 11  purpose           21525 non-null  object \n",
      "dtypes: float64(2), int64(5), object(5)\n",
      "memory usage: 2.0+ MB\n"
     ]
    }
   ],
   "source": [
    "# get know about the shape of data and info about each column's datatype\n",
    "print('Table has {} rows, {} columns  and {} observations in total.'\n",
    "      .format(data_project.shape[0], data_project.shape[1], (data_project.shape[0]*data_project.shape[1])))\n",
    "print()\n",
    "print()\n",
    "print('Datatypes of columns are as follow:')\n",
    "print('----------')\n",
    "data_project.info()"
   ]
  },
  {
   "cell_type": "markdown",
   "id": "88bafc18",
   "metadata": {},
   "source": [
    "# Conclusion\n",
    "- By using ```Pandas``` Library we succesfully opened our file and got all information from there. We changed two column names for better understanding and in further analyzing \n",
    "- After we applied ```info()``` method, we saw that we have 12 columns with different types and 21525 rows."
   ]
  },
  {
   "cell_type": "markdown",
   "id": "012d31bc",
   "metadata": {},
   "source": [
    "# Step 2. Preprocess the data:\n",
    "- Identify and fill in missing values\n",
    "- Replace the real number data type with the integer type\n",
    "- Delete duplicate data\n",
    "- Categorize the data"
   ]
  },
  {
   "cell_type": "markdown",
   "id": "9c5a9f04",
   "metadata": {},
   "source": [
    "- Now we will check how many missing values we have, and in what columns. For this, we will use method ```isnull()``` combine with ```sum()```, to check how many of each column we have missing values, and will analyze what % of all data our missing values occupied. We will find the ratio between missing values and all volumes of data. "
   ]
  },
  {
   "cell_type": "code",
   "execution_count": 5,
   "id": "b82fa0ec",
   "metadata": {},
   "outputs": [
    {
     "data": {
      "text/plain": [
       "children               0\n",
       "days_employed       2174\n",
       "age                    0\n",
       "education              0\n",
       "education_id           0\n",
       "family_status          0\n",
       "family_status_id       0\n",
       "gender                 0\n",
       "work_types             0\n",
       "debt                   0\n",
       "salary              2174\n",
       "purpose                0\n",
       "dtype: int64"
      ]
     },
     "execution_count": 5,
     "metadata": {},
     "output_type": "execute_result"
    }
   ],
   "source": [
    "# Finding in what columns we have missing values\n",
    "data_project.isnull().sum()"
   ]
  },
  {
   "cell_type": "markdown",
   "id": "98d34c89",
   "metadata": {},
   "source": [
    "> Only ```days_employed```and ```total_income``` columns have missing values. Number of missing values in both of them are exactly equal. Seems like they are related!"
   ]
  },
  {
   "cell_type": "code",
   "execution_count": 6,
   "id": "3817ca9a",
   "metadata": {
    "scrolled": false
   },
   "outputs": [
    {
     "data": {
      "text/html": [
       "<div>\n",
       "<style scoped>\n",
       "    .dataframe tbody tr th:only-of-type {\n",
       "        vertical-align: middle;\n",
       "    }\n",
       "\n",
       "    .dataframe tbody tr th {\n",
       "        vertical-align: top;\n",
       "    }\n",
       "\n",
       "    .dataframe thead th {\n",
       "        text-align: right;\n",
       "    }\n",
       "</style>\n",
       "<table border=\"1\" class=\"dataframe\">\n",
       "  <thead>\n",
       "    <tr style=\"text-align: right;\">\n",
       "      <th></th>\n",
       "      <th>children</th>\n",
       "      <th>days_employed</th>\n",
       "      <th>age</th>\n",
       "      <th>education</th>\n",
       "      <th>education_id</th>\n",
       "      <th>family_status</th>\n",
       "      <th>family_status_id</th>\n",
       "      <th>gender</th>\n",
       "      <th>work_types</th>\n",
       "      <th>debt</th>\n",
       "      <th>salary</th>\n",
       "      <th>purpose</th>\n",
       "    </tr>\n",
       "  </thead>\n",
       "  <tbody>\n",
       "    <tr>\n",
       "      <th>14910</th>\n",
       "      <td>0</td>\n",
       "      <td>NaN</td>\n",
       "      <td>20</td>\n",
       "      <td>secondary education</td>\n",
       "      <td>1</td>\n",
       "      <td>unmarried</td>\n",
       "      <td>4</td>\n",
       "      <td>M</td>\n",
       "      <td>employee</td>\n",
       "      <td>0</td>\n",
       "      <td>NaN</td>\n",
       "      <td>buy residential real estate</td>\n",
       "    </tr>\n",
       "    <tr>\n",
       "      <th>8604</th>\n",
       "      <td>2</td>\n",
       "      <td>NaN</td>\n",
       "      <td>42</td>\n",
       "      <td>secondary education</td>\n",
       "      <td>1</td>\n",
       "      <td>married</td>\n",
       "      <td>0</td>\n",
       "      <td>M</td>\n",
       "      <td>employee</td>\n",
       "      <td>0</td>\n",
       "      <td>NaN</td>\n",
       "      <td>to buy a car</td>\n",
       "    </tr>\n",
       "    <tr>\n",
       "      <th>6915</th>\n",
       "      <td>0</td>\n",
       "      <td>NaN</td>\n",
       "      <td>27</td>\n",
       "      <td>secondary education</td>\n",
       "      <td>1</td>\n",
       "      <td>civil partnership</td>\n",
       "      <td>1</td>\n",
       "      <td>M</td>\n",
       "      <td>employee</td>\n",
       "      <td>1</td>\n",
       "      <td>NaN</td>\n",
       "      <td>having a wedding</td>\n",
       "    </tr>\n",
       "    <tr>\n",
       "      <th>220</th>\n",
       "      <td>1</td>\n",
       "      <td>NaN</td>\n",
       "      <td>23</td>\n",
       "      <td>some college</td>\n",
       "      <td>2</td>\n",
       "      <td>civil partnership</td>\n",
       "      <td>1</td>\n",
       "      <td>F</td>\n",
       "      <td>business</td>\n",
       "      <td>0</td>\n",
       "      <td>NaN</td>\n",
       "      <td>to have a wedding</td>\n",
       "    </tr>\n",
       "    <tr>\n",
       "      <th>3561</th>\n",
       "      <td>3</td>\n",
       "      <td>NaN</td>\n",
       "      <td>34</td>\n",
       "      <td>secondary education</td>\n",
       "      <td>1</td>\n",
       "      <td>married</td>\n",
       "      <td>0</td>\n",
       "      <td>F</td>\n",
       "      <td>employee</td>\n",
       "      <td>0</td>\n",
       "      <td>NaN</td>\n",
       "      <td>construction of own property</td>\n",
       "    </tr>\n",
       "    <tr>\n",
       "      <th>5748</th>\n",
       "      <td>0</td>\n",
       "      <td>NaN</td>\n",
       "      <td>61</td>\n",
       "      <td>secondary education</td>\n",
       "      <td>1</td>\n",
       "      <td>divorced</td>\n",
       "      <td>3</td>\n",
       "      <td>F</td>\n",
       "      <td>retiree</td>\n",
       "      <td>0</td>\n",
       "      <td>NaN</td>\n",
       "      <td>buying property for renting out</td>\n",
       "    </tr>\n",
       "    <tr>\n",
       "      <th>145</th>\n",
       "      <td>0</td>\n",
       "      <td>NaN</td>\n",
       "      <td>62</td>\n",
       "      <td>secondary education</td>\n",
       "      <td>1</td>\n",
       "      <td>married</td>\n",
       "      <td>0</td>\n",
       "      <td>M</td>\n",
       "      <td>retiree</td>\n",
       "      <td>0</td>\n",
       "      <td>NaN</td>\n",
       "      <td>building a property</td>\n",
       "    </tr>\n",
       "    <tr>\n",
       "      <th>9037</th>\n",
       "      <td>2</td>\n",
       "      <td>NaN</td>\n",
       "      <td>34</td>\n",
       "      <td>secondary education</td>\n",
       "      <td>1</td>\n",
       "      <td>married</td>\n",
       "      <td>0</td>\n",
       "      <td>F</td>\n",
       "      <td>employee</td>\n",
       "      <td>0</td>\n",
       "      <td>NaN</td>\n",
       "      <td>buying property for renting out</td>\n",
       "    </tr>\n",
       "    <tr>\n",
       "      <th>2974</th>\n",
       "      <td>1</td>\n",
       "      <td>NaN</td>\n",
       "      <td>36</td>\n",
       "      <td>Bachelor's Degree</td>\n",
       "      <td>0</td>\n",
       "      <td>civil partnership</td>\n",
       "      <td>1</td>\n",
       "      <td>F</td>\n",
       "      <td>employee</td>\n",
       "      <td>0</td>\n",
       "      <td>NaN</td>\n",
       "      <td>to have a wedding</td>\n",
       "    </tr>\n",
       "    <tr>\n",
       "      <th>3635</th>\n",
       "      <td>0</td>\n",
       "      <td>NaN</td>\n",
       "      <td>44</td>\n",
       "      <td>secondary education</td>\n",
       "      <td>1</td>\n",
       "      <td>married</td>\n",
       "      <td>0</td>\n",
       "      <td>F</td>\n",
       "      <td>employee</td>\n",
       "      <td>0</td>\n",
       "      <td>NaN</td>\n",
       "      <td>supplementary education</td>\n",
       "    </tr>\n",
       "  </tbody>\n",
       "</table>\n",
       "</div>"
      ],
      "text/plain": [
       "       children  days_employed  age            education  education_id  \\\n",
       "14910         0            NaN   20  secondary education             1   \n",
       "8604          2            NaN   42  secondary education             1   \n",
       "6915          0            NaN   27  secondary education             1   \n",
       "220           1            NaN   23         some college             2   \n",
       "3561          3            NaN   34  secondary education             1   \n",
       "5748          0            NaN   61  secondary education             1   \n",
       "145           0            NaN   62  secondary education             1   \n",
       "9037          2            NaN   34  secondary education             1   \n",
       "2974          1            NaN   36    Bachelor's Degree             0   \n",
       "3635          0            NaN   44  secondary education             1   \n",
       "\n",
       "           family_status  family_status_id gender work_types  debt  salary  \\\n",
       "14910          unmarried                 4      M   employee     0     NaN   \n",
       "8604             married                 0      M   employee     0     NaN   \n",
       "6915   civil partnership                 1      M   employee     1     NaN   \n",
       "220    civil partnership                 1      F   business     0     NaN   \n",
       "3561             married                 0      F   employee     0     NaN   \n",
       "5748            divorced                 3      F    retiree     0     NaN   \n",
       "145              married                 0      M    retiree     0     NaN   \n",
       "9037             married                 0      F   employee     0     NaN   \n",
       "2974   civil partnership                 1      F   employee     0     NaN   \n",
       "3635             married                 0      F   employee     0     NaN   \n",
       "\n",
       "                               purpose  \n",
       "14910      buy residential real estate  \n",
       "8604                      to buy a car  \n",
       "6915                  having a wedding  \n",
       "220                  to have a wedding  \n",
       "3561      construction of own property  \n",
       "5748   buying property for renting out  \n",
       "145                building a property  \n",
       "9037   buying property for renting out  \n",
       "2974                 to have a wedding  \n",
       "3635           supplementary education  "
      ]
     },
     "execution_count": 6,
     "metadata": {},
     "output_type": "execute_result"
    }
   ],
   "source": [
    "#retrieve data with rows that contain missing value on any of the columns\n",
    "# and randomly select 10 or more rows with the sample() method\n",
    "data_project[data_project.isnull().any(axis=1)].sample(10)"
   ]
  },
  {
   "cell_type": "markdown",
   "id": "8e416636",
   "metadata": {},
   "source": [
    "> Let's check our missing values by work_status to get a better understanding by what type of work has the biggest number of missing values"
   ]
  },
  {
   "cell_type": "code",
   "execution_count": 7,
   "id": "192ef55c",
   "metadata": {},
   "outputs": [
    {
     "data": {
      "text/plain": [
       "employee         1105\n",
       "business          508\n",
       "retiree           413\n",
       "civil servant     147\n",
       "entrepreneur        1\n",
       "Name: work_types, dtype: int64"
      ]
     },
     "execution_count": 7,
     "metadata": {},
     "output_type": "execute_result"
    }
   ],
   "source": [
    "data_project[data_project.isnull().any(axis=1)]['work_types'].value_counts()"
   ]
  },
  {
   "cell_type": "markdown",
   "id": "1ad2bfbe",
   "metadata": {},
   "source": [
    "> Seems most of the problem we have with employee column, let' make another step and find ratio between missing values in our data and all data values"
   ]
  },
  {
   "cell_type": "code",
   "execution_count": 8,
   "id": "0b4f9e34",
   "metadata": {},
   "outputs": [
    {
     "data": {
      "text/plain": [
       "'The total number of missing values from all data is : 20%'"
      ]
     },
     "execution_count": 8,
     "metadata": {},
     "output_type": "execute_result"
    }
   ],
   "source": [
    "# One of the way to find ratio \n",
    "data_project_miss = data_project.isnull().sum().sum() / len(data_project)\n",
    "'The total number of missing values from all data is : {:.0%}'.format(data_project_miss)"
   ]
  },
  {
   "cell_type": "markdown",
   "id": "2ee2cfa2",
   "metadata": {},
   "source": [
    "> That means we have a lot of work to do, 20% is a big amount of missing data. The next step is to check each column for a mess, to find out what kind of problems we have in columns, and clear our data from all mess we will find. In this step, we will start working with each column and try to deep look inside them and clear all mess they have.\n",
    "\n"
   ]
  },
  {
   "cell_type": "markdown",
   "id": "331b2a59",
   "metadata": {},
   "source": [
    "\n",
    "# \"Age\"\n",
    "let's check what mess we have:\n",
    "- (1) We need to find what max() and what min() age do we have, to know are they any problem with age\n",
    "- (2) Let's propose age when you can go start working will be 17 and more (that mean we need to replace all values less then 17)\n",
    "\n",
    "After that we can go to next column and find problems with them, but let's first do first"
   ]
  },
  {
   "cell_type": "code",
   "execution_count": 9,
   "id": "1917ec78",
   "metadata": {},
   "outputs": [
    {
     "data": {
      "text/plain": [
       "75"
      ]
     },
     "execution_count": 9,
     "metadata": {},
     "output_type": "execute_result"
    }
   ],
   "source": [
    "data_project['age'].max() # the value of the biggest age from 'age' column\n"
   ]
  },
  {
   "cell_type": "code",
   "execution_count": 10,
   "id": "3e44aadd",
   "metadata": {},
   "outputs": [
    {
     "data": {
      "text/plain": [
       "0"
      ]
     },
     "execution_count": 10,
     "metadata": {},
     "output_type": "execute_result"
    }
   ],
   "source": [
    "data_project['age'].min() # the value of the minimum age from 'age' column"
   ]
  },
  {
   "cell_type": "markdown",
   "id": "cedd1e8c",
   "metadata": {},
   "source": [
    "> Seems we have a problem with ```min()``` value in our age column, let's replace them by median age of all column"
   ]
  },
  {
   "cell_type": "code",
   "execution_count": 11,
   "id": "7421e501",
   "metadata": {},
   "outputs": [
    {
     "data": {
      "text/plain": [
       "42.0"
      ]
     },
     "execution_count": 11,
     "metadata": {},
     "output_type": "execute_result"
    }
   ],
   "source": [
    "# let's replace all values who equal to 0 with median value\n",
    "median_age = data_project['age'].median()\n",
    "median_age"
   ]
  },
  {
   "cell_type": "code",
   "execution_count": 12,
   "id": "e75216c6",
   "metadata": {},
   "outputs": [],
   "source": [
    "#After we found out what median age is let's replace all \"0\" values by median\n",
    "data_project.loc[data_project['age'] == 0, 'age'] = median_age"
   ]
  },
  {
   "cell_type": "code",
   "execution_count": 13,
   "id": "8ddbefe0",
   "metadata": {},
   "outputs": [
    {
     "data": {
      "text/plain": [
       "0"
      ]
     },
     "execution_count": 13,
     "metadata": {},
     "output_type": "execute_result"
    }
   ],
   "source": [
    "# Now we will find out are we still have in column \"age\" values equl to 0:\n",
    "data_project['age'].loc[data_project['age'] == 0].count()"
   ]
  },
  {
   "cell_type": "code",
   "execution_count": 14,
   "id": "67e47d3a",
   "metadata": {},
   "outputs": [
    {
     "data": {
      "text/plain": [
       "0"
      ]
     },
     "execution_count": 14,
     "metadata": {},
     "output_type": "execute_result"
    }
   ],
   "source": [
    "#In this step we will see if we have any age less then 17 and if we have will replace by mean value\n",
    "data_project['age'].loc[data_project['age'] < 17].count()"
   ]
  },
  {
   "cell_type": "markdown",
   "id": "924dbea1",
   "metadata": {},
   "source": [
    "> Now we will create a histogram to give us a better look at how worker belong to each category of ```age```"
   ]
  },
  {
   "cell_type": "code",
   "execution_count": 15,
   "id": "6b077da8",
   "metadata": {},
   "outputs": [
    {
     "data": {
      "image/png": "[encoded data removed]",
      "text/plain": [
       "<Figure size 640x480 with 1 Axes>"
      ]
     },
     "metadata": {},
     "output_type": "display_data"
    }
   ],
   "source": [
    "data_project.hist(column = 'age'); #Creating a histogram"
   ]
  },
  {
   "cell_type": "markdown",
   "id": "ed1341ab",
   "metadata": {},
   "source": [
    ">After analyzing this column we can see that most clients have age between 35-43 years\n",
    "\n",
    "# \"Education\"\n",
    "First, we need to check all data from this column and understand what move we need to take to solve any problems or mess in this column.\n",
    "\n",
    "- (1)Let's find out how many types of education we have \n",
    "- (2)Try to understand what problems(if there are) we see and solve them one by one"
   ]
  },
  {
   "cell_type": "code",
   "execution_count": 16,
   "id": "41726375",
   "metadata": {},
   "outputs": [
    {
     "data": {
      "text/plain": [
       "array([\"bachelor's degree\", 'secondary education', 'Secondary Education',\n",
       "       'SECONDARY EDUCATION', \"BACHELOR'S DEGREE\", 'some college',\n",
       "       'primary education', \"Bachelor's Degree\", 'SOME COLLEGE',\n",
       "       'Some College', 'PRIMARY EDUCATION', 'Primary Education',\n",
       "       'Graduate Degree', 'GRADUATE DEGREE', 'graduate degree'],\n",
       "      dtype=object)"
      ]
     },
     "execution_count": 16,
     "metadata": {},
     "output_type": "execute_result"
    }
   ],
   "source": [
    "#Here we will use \"unique\" method to find all unique type of education we have in our data \n",
    "data_project['education'].unique()"
   ]
  },
  {
   "cell_type": "code",
   "execution_count": 17,
   "id": "16ab5494",
   "metadata": {},
   "outputs": [
    {
     "data": {
      "text/html": [
       "<div>\n",
       "<style scoped>\n",
       "    .dataframe tbody tr th:only-of-type {\n",
       "        vertical-align: middle;\n",
       "    }\n",
       "\n",
       "    .dataframe tbody tr th {\n",
       "        vertical-align: top;\n",
       "    }\n",
       "\n",
       "    .dataframe thead th {\n",
       "        text-align: right;\n",
       "    }\n",
       "</style>\n",
       "<table border=\"1\" class=\"dataframe\">\n",
       "  <thead>\n",
       "    <tr style=\"text-align: right;\">\n",
       "      <th></th>\n",
       "      <th>children</th>\n",
       "      <th>days_employed</th>\n",
       "      <th>age</th>\n",
       "      <th>education</th>\n",
       "      <th>education_id</th>\n",
       "      <th>family_status</th>\n",
       "      <th>family_status_id</th>\n",
       "      <th>gender</th>\n",
       "      <th>work_types</th>\n",
       "      <th>debt</th>\n",
       "      <th>salary</th>\n",
       "      <th>purpose</th>\n",
       "    </tr>\n",
       "  </thead>\n",
       "  <tbody>\n",
       "    <tr>\n",
       "      <th>0</th>\n",
       "      <td>1</td>\n",
       "      <td>-8437.673028</td>\n",
       "      <td>42</td>\n",
       "      <td>bachelor's degree</td>\n",
       "      <td>0</td>\n",
       "      <td>married</td>\n",
       "      <td>0</td>\n",
       "      <td>F</td>\n",
       "      <td>employee</td>\n",
       "      <td>0</td>\n",
       "      <td>40620.102</td>\n",
       "      <td>purchase of the house</td>\n",
       "    </tr>\n",
       "    <tr>\n",
       "      <th>1</th>\n",
       "      <td>1</td>\n",
       "      <td>-4024.803754</td>\n",
       "      <td>36</td>\n",
       "      <td>secondary education</td>\n",
       "      <td>1</td>\n",
       "      <td>married</td>\n",
       "      <td>0</td>\n",
       "      <td>F</td>\n",
       "      <td>employee</td>\n",
       "      <td>0</td>\n",
       "      <td>17932.802</td>\n",
       "      <td>car purchase</td>\n",
       "    </tr>\n",
       "    <tr>\n",
       "      <th>2</th>\n",
       "      <td>0</td>\n",
       "      <td>-5623.422610</td>\n",
       "      <td>33</td>\n",
       "      <td>secondary education</td>\n",
       "      <td>1</td>\n",
       "      <td>married</td>\n",
       "      <td>0</td>\n",
       "      <td>M</td>\n",
       "      <td>employee</td>\n",
       "      <td>0</td>\n",
       "      <td>23341.752</td>\n",
       "      <td>purchase of the house</td>\n",
       "    </tr>\n",
       "    <tr>\n",
       "      <th>3</th>\n",
       "      <td>3</td>\n",
       "      <td>-4124.747207</td>\n",
       "      <td>32</td>\n",
       "      <td>secondary education</td>\n",
       "      <td>1</td>\n",
       "      <td>married</td>\n",
       "      <td>0</td>\n",
       "      <td>M</td>\n",
       "      <td>employee</td>\n",
       "      <td>0</td>\n",
       "      <td>42820.568</td>\n",
       "      <td>supplementary education</td>\n",
       "    </tr>\n",
       "    <tr>\n",
       "      <th>4</th>\n",
       "      <td>0</td>\n",
       "      <td>340266.072047</td>\n",
       "      <td>53</td>\n",
       "      <td>secondary education</td>\n",
       "      <td>1</td>\n",
       "      <td>civil partnership</td>\n",
       "      <td>1</td>\n",
       "      <td>F</td>\n",
       "      <td>retiree</td>\n",
       "      <td>0</td>\n",
       "      <td>25378.572</td>\n",
       "      <td>to have a wedding</td>\n",
       "    </tr>\n",
       "    <tr>\n",
       "      <th>...</th>\n",
       "      <td>...</td>\n",
       "      <td>...</td>\n",
       "      <td>...</td>\n",
       "      <td>...</td>\n",
       "      <td>...</td>\n",
       "      <td>...</td>\n",
       "      <td>...</td>\n",
       "      <td>...</td>\n",
       "      <td>...</td>\n",
       "      <td>...</td>\n",
       "      <td>...</td>\n",
       "      <td>...</td>\n",
       "    </tr>\n",
       "    <tr>\n",
       "      <th>21520</th>\n",
       "      <td>1</td>\n",
       "      <td>-4529.316663</td>\n",
       "      <td>43</td>\n",
       "      <td>secondary education</td>\n",
       "      <td>1</td>\n",
       "      <td>civil partnership</td>\n",
       "      <td>1</td>\n",
       "      <td>F</td>\n",
       "      <td>business</td>\n",
       "      <td>0</td>\n",
       "      <td>35966.698</td>\n",
       "      <td>housing transactions</td>\n",
       "    </tr>\n",
       "    <tr>\n",
       "      <th>21521</th>\n",
       "      <td>0</td>\n",
       "      <td>343937.404131</td>\n",
       "      <td>67</td>\n",
       "      <td>secondary education</td>\n",
       "      <td>1</td>\n",
       "      <td>married</td>\n",
       "      <td>0</td>\n",
       "      <td>F</td>\n",
       "      <td>retiree</td>\n",
       "      <td>0</td>\n",
       "      <td>24959.969</td>\n",
       "      <td>purchase of a car</td>\n",
       "    </tr>\n",
       "    <tr>\n",
       "      <th>21522</th>\n",
       "      <td>1</td>\n",
       "      <td>-2113.346888</td>\n",
       "      <td>38</td>\n",
       "      <td>secondary education</td>\n",
       "      <td>1</td>\n",
       "      <td>civil partnership</td>\n",
       "      <td>1</td>\n",
       "      <td>M</td>\n",
       "      <td>employee</td>\n",
       "      <td>1</td>\n",
       "      <td>14347.610</td>\n",
       "      <td>property</td>\n",
       "    </tr>\n",
       "    <tr>\n",
       "      <th>21523</th>\n",
       "      <td>3</td>\n",
       "      <td>-3112.481705</td>\n",
       "      <td>38</td>\n",
       "      <td>secondary education</td>\n",
       "      <td>1</td>\n",
       "      <td>married</td>\n",
       "      <td>0</td>\n",
       "      <td>M</td>\n",
       "      <td>employee</td>\n",
       "      <td>1</td>\n",
       "      <td>39054.888</td>\n",
       "      <td>buying my own car</td>\n",
       "    </tr>\n",
       "    <tr>\n",
       "      <th>21524</th>\n",
       "      <td>2</td>\n",
       "      <td>-1984.507589</td>\n",
       "      <td>40</td>\n",
       "      <td>secondary education</td>\n",
       "      <td>1</td>\n",
       "      <td>married</td>\n",
       "      <td>0</td>\n",
       "      <td>F</td>\n",
       "      <td>employee</td>\n",
       "      <td>0</td>\n",
       "      <td>13127.587</td>\n",
       "      <td>to buy a car</td>\n",
       "    </tr>\n",
       "  </tbody>\n",
       "</table>\n",
       "<p>21525 rows × 12 columns</p>\n",
       "</div>"
      ],
      "text/plain": [
       "       children  days_employed  age            education  education_id  \\\n",
       "0             1   -8437.673028   42    bachelor's degree             0   \n",
       "1             1   -4024.803754   36  secondary education             1   \n",
       "2             0   -5623.422610   33  secondary education             1   \n",
       "3             3   -4124.747207   32  secondary education             1   \n",
       "4             0  340266.072047   53  secondary education             1   \n",
       "...         ...            ...  ...                  ...           ...   \n",
       "21520         1   -4529.316663   43  secondary education             1   \n",
       "21521         0  343937.404131   67  secondary education             1   \n",
       "21522         1   -2113.346888   38  secondary education             1   \n",
       "21523         3   -3112.481705   38  secondary education             1   \n",
       "21524         2   -1984.507589   40  secondary education             1   \n",
       "\n",
       "           family_status  family_status_id gender work_types  debt     salary  \\\n",
       "0                married                 0      F   employee     0  40620.102   \n",
       "1                married                 0      F   employee     0  17932.802   \n",
       "2                married                 0      M   employee     0  23341.752   \n",
       "3                married                 0      M   employee     0  42820.568   \n",
       "4      civil partnership                 1      F    retiree     0  25378.572   \n",
       "...                  ...               ...    ...        ...   ...        ...   \n",
       "21520  civil partnership                 1      F   business     0  35966.698   \n",
       "21521            married                 0      F    retiree     0  24959.969   \n",
       "21522  civil partnership                 1      M   employee     1  14347.610   \n",
       "21523            married                 0      M   employee     1  39054.888   \n",
       "21524            married                 0      F   employee     0  13127.587   \n",
       "\n",
       "                       purpose  \n",
       "0        purchase of the house  \n",
       "1                 car purchase  \n",
       "2        purchase of the house  \n",
       "3      supplementary education  \n",
       "4            to have a wedding  \n",
       "...                        ...  \n",
       "21520     housing transactions  \n",
       "21521        purchase of a car  \n",
       "21522                 property  \n",
       "21523        buying my own car  \n",
       "21524             to buy a car  \n",
       "\n",
       "[21525 rows x 12 columns]"
      ]
     },
     "execution_count": 17,
     "metadata": {},
     "output_type": "execute_result"
    }
   ],
   "source": [
    "#It seems we have a bit of equal words but with different letter types (Lower or Upper case)\n",
    "#Now we can call our function lower_case and refill all cases to lower register\n",
    "columns = ['education']\n",
    "data_project['education'] = data_project['education'].str.lower()\n",
    "data_project"
   ]
  },
  {
   "cell_type": "code",
   "execution_count": 18,
   "id": "bdb57570",
   "metadata": {},
   "outputs": [
    {
     "data": {
      "text/plain": [
       "array([\"bachelor's degree\", 'secondary education', 'some college',\n",
       "       'primary education', 'graduate degree'], dtype=object)"
      ]
     },
     "execution_count": 18,
     "metadata": {},
     "output_type": "execute_result"
    }
   ],
   "source": [
    "# now let's check if what we done later  working well\n",
    "data_project['education'].unique()"
   ]
  },
  {
   "cell_type": "markdown",
   "id": "511b031e",
   "metadata": {},
   "source": [
    ">Now when we finished working with our \"education\" columns lets go to another one, to see what going on there\n",
    "\n",
    "# \"days_employed\"\n",
    "What we need so far from the previous work, that this column has: The missing values, values which not make any sense)-8437.6730 days of work, or  134567.1 days of work etc.) that's why we need to work properly and find the best solution to rewrite them.\n",
    "In our case, we will do next:\n",
    "\n",
    "- (1)We need the age of the workers and the middle days of work per month, that's why we will replace all problems values with functions which will give us back days of work based on the age of each worker\n",
    "- (2)If values from days of work will good for our criteria we will leave them in place\n",
    "\n"
   ]
  },
  {
   "cell_type": "code",
   "execution_count": 19,
   "id": "f27c96fe",
   "metadata": {},
   "outputs": [
    {
     "data": {
      "text/plain": [
       "2174"
      ]
     },
     "execution_count": 19,
     "metadata": {},
     "output_type": "execute_result"
    }
   ],
   "source": [
    "#Now we need to check if all work well,and we dont have any missing values in our columns\n",
    "data_project['days_employed'].isnull().sum()"
   ]
  },
  {
   "cell_type": "markdown",
   "id": "a724f646",
   "metadata": {},
   "source": [
    "> Great, we solve it!\n",
    "But not the way we need, but for the start it's ok, let's move on.\n",
    "Let us write a function that will take values from the column \"age\" and solve our problem with values in column \"days_of_employed\",\n",
    "and replace by this function all problematic values in our column"
   ]
  },
  {
   "cell_type": "code",
   "execution_count": 20,
   "id": "23bfb130",
   "metadata": {},
   "outputs": [],
   "source": [
    "# let's propose that 222 is the average number of work days per year.\n",
    "def work_days(data):\n",
    "    return (data['age'] - 17) *222\n",
    "\n",
    "data_project.loc[data_project['days_employed'] > (data_project['age'] - 17) * 222, 'days_employed'] = work_days(data_project)"
   ]
  },
  {
   "cell_type": "code",
   "execution_count": 21,
   "id": "a7216878",
   "metadata": {},
   "outputs": [],
   "source": [
    "data_project.loc[data_project['days_employed'] < (data_project['age'] - 17) * 222, 'days_employed'] = work_days(data_project)\n"
   ]
  },
  {
   "cell_type": "code",
   "execution_count": 22,
   "id": "5a50f390",
   "metadata": {},
   "outputs": [],
   "source": [
    "data_project['days_employed'] = data_project['days_employed'].fillna(work_days(data_project))"
   ]
  },
  {
   "cell_type": "markdown",
   "id": "9c72e97b",
   "metadata": {},
   "source": [
    ">In the previous three-line code, we replace all values that can not make normal sense(reasons) with more real ones. And replace all 'Nan' values by our function values.\n",
    ">let's check if all that we have done working properly by checking several first rows, after finding min() and max() values, and mean() and median(), just for sure to understand we worked well"
   ]
  },
  {
   "cell_type": "code",
   "execution_count": 23,
   "id": "5dae18f2",
   "metadata": {},
   "outputs": [
    {
     "data": {
      "text/plain": [
       "0"
      ]
     },
     "execution_count": 23,
     "metadata": {},
     "output_type": "execute_result"
    }
   ],
   "source": [
    "# Let's check if we cleared all missing values in our column\n",
    "data_project['days_employed'].isnull().sum()"
   ]
  },
  {
   "cell_type": "code",
   "execution_count": 24,
   "id": "82c362fe",
   "metadata": {},
   "outputs": [
    {
     "data": {
      "text/plain": [
       "0    5550.0\n",
       "1    4218.0\n",
       "2    3552.0\n",
       "3    3330.0\n",
       "4    7992.0\n",
       "5    2220.0\n",
       "6    5772.0\n",
       "7    7326.0\n",
       "8    3996.0\n",
       "9    5328.0\n",
       "Name: days_employed, dtype: float64"
      ]
     },
     "execution_count": 24,
     "metadata": {},
     "output_type": "execute_result"
    }
   ],
   "source": [
    "data_project['days_employed'].head(10)"
   ]
  },
  {
   "cell_type": "code",
   "execution_count": 25,
   "id": "ccc2e2cc",
   "metadata": {},
   "outputs": [
    {
     "data": {
      "text/plain": [
       "444.0"
      ]
     },
     "execution_count": 25,
     "metadata": {},
     "output_type": "execute_result"
    }
   ],
   "source": [
    "# Seems nice go on \n",
    "data_project['days_employed'].min()"
   ]
  },
  {
   "cell_type": "code",
   "execution_count": 26,
   "id": "2b80bc44",
   "metadata": {},
   "outputs": [
    {
     "data": {
      "text/plain": [
       "12876.0"
      ]
     },
     "execution_count": 26,
     "metadata": {},
     "output_type": "execute_result"
    }
   ],
   "source": [
    "# And max\n",
    "data_project['days_employed'].max()"
   ]
  },
  {
   "cell_type": "code",
   "execution_count": 27,
   "id": "6d3dc24e",
   "metadata": {},
   "outputs": [
    {
     "data": {
      "text/plain": [
       "5880.880557491289"
      ]
     },
     "execution_count": 27,
     "metadata": {},
     "output_type": "execute_result"
    }
   ],
   "source": [
    "#nice lets find out mean and median \n",
    "data_project['days_employed'].mean()"
   ]
  },
  {
   "cell_type": "code",
   "execution_count": 28,
   "id": "9e712ecc",
   "metadata": {},
   "outputs": [
    {
     "data": {
      "text/plain": [
       "5550.0"
      ]
     },
     "execution_count": 28,
     "metadata": {},
     "output_type": "execute_result"
    }
   ],
   "source": [
    "data_project['days_employed'].median()"
   ]
  },
  {
   "cell_type": "markdown",
   "id": "5dd57560",
   "metadata": {},
   "source": [
    ">Great job! All working well, now we can go on and check another column for processing and make our way near to the finish line, where we can start to work with our Data like real Data science 👌\n",
    "> But first, let's group our data by each type of work, and see to which work belongs hard workers, and then we will create a histogram that will show us how many workers worked hard in their lifetime"
   ]
  },
  {
   "cell_type": "code",
   "execution_count": 29,
   "id": "8158e420",
   "metadata": {},
   "outputs": [],
   "source": [
    "#let's find out to what category belong most hard worker\n",
    "histo_days_emplo = data_project.groupby(['work_types'])['days_employed'].max()\n",
    "# create a data frame for better visualization\n",
    "histo_days_emplo = pd.DataFrame(histo_days_emplo)\n",
    "histo_days_emplo = histo_days_emplo.astype(int)\n"
   ]
  },
  {
   "cell_type": "code",
   "execution_count": 30,
   "id": "e861d914",
   "metadata": {},
   "outputs": [
    {
     "data": {
      "text/html": [
       "<style type=\"text/css\">\n",
       "#T_44c7e_row0_col0, #T_44c7e_row2_col0, #T_44c7e_row5_col0 {\n",
       "  background-color: #ff0404;\n",
       "  color: #f1f1f1;\n",
       "}\n",
       "#T_44c7e_row1_col0 {\n",
       "  background-color: #ff0000;\n",
       "  color: #f1f1f1;\n",
       "}\n",
       "#T_44c7e_row3_col0 {\n",
       "  background-color: #fb4d4d;\n",
       "  color: #f1f1f1;\n",
       "}\n",
       "#T_44c7e_row4_col0 {\n",
       "  background-color: #f7a3a3;\n",
       "  color: #000000;\n",
       "}\n",
       "#T_44c7e_row6_col0 {\n",
       "  background-color: #f3f0f0;\n",
       "  color: #000000;\n",
       "}\n",
       "#T_44c7e_row7_col0 {\n",
       "  background-color: #f88888;\n",
       "  color: #f1f1f1;\n",
       "}\n",
       "</style>\n",
       "<table id=\"T_44c7e\">\n",
       "  <thead>\n",
       "    <tr>\n",
       "      <th class=\"blank level0\" >&nbsp;</th>\n",
       "      <th id=\"T_44c7e_level0_col0\" class=\"col_heading level0 col0\" >days_employed</th>\n",
       "    </tr>\n",
       "    <tr>\n",
       "      <th class=\"index_name level0\" >work_types</th>\n",
       "      <th class=\"blank col0\" >&nbsp;</th>\n",
       "    </tr>\n",
       "  </thead>\n",
       "  <tbody>\n",
       "    <tr>\n",
       "      <th id=\"T_44c7e_level0_row0\" class=\"row_heading level0 row0\" >business</th>\n",
       "      <td id=\"T_44c7e_row0_col0\" class=\"data row0 col0\" >12654</td>\n",
       "    </tr>\n",
       "    <tr>\n",
       "      <th id=\"T_44c7e_level0_row1\" class=\"row_heading level0 row1\" >civil servant</th>\n",
       "      <td id=\"T_44c7e_row1_col0\" class=\"data row1 col0\" >12876</td>\n",
       "    </tr>\n",
       "    <tr>\n",
       "      <th id=\"T_44c7e_level0_row2\" class=\"row_heading level0 row2\" >employee</th>\n",
       "      <td id=\"T_44c7e_row2_col0\" class=\"data row2 col0\" >12654</td>\n",
       "    </tr>\n",
       "    <tr>\n",
       "      <th id=\"T_44c7e_level0_row3\" class=\"row_heading level0 row3\" >entrepreneur</th>\n",
       "      <td id=\"T_44c7e_row3_col0\" class=\"data row3 col0\" >9102</td>\n",
       "    </tr>\n",
       "    <tr>\n",
       "      <th id=\"T_44c7e_level0_row4\" class=\"row_heading level0 row4\" >paternity / maternity leave</th>\n",
       "      <td id=\"T_44c7e_row4_col0\" class=\"data row4 col0\" >4884</td>\n",
       "    </tr>\n",
       "    <tr>\n",
       "      <th id=\"T_44c7e_level0_row5\" class=\"row_heading level0 row5\" >retiree</th>\n",
       "      <td id=\"T_44c7e_row5_col0\" class=\"data row5 col0\" >12654</td>\n",
       "    </tr>\n",
       "    <tr>\n",
       "      <th id=\"T_44c7e_level0_row6\" class=\"row_heading level0 row6\" >student</th>\n",
       "      <td id=\"T_44c7e_row6_col0\" class=\"data row6 col0\" >1110</td>\n",
       "    </tr>\n",
       "    <tr>\n",
       "      <th id=\"T_44c7e_level0_row7\" class=\"row_heading level0 row7\" >unemployed</th>\n",
       "      <td id=\"T_44c7e_row7_col0\" class=\"data row7 col0\" >6216</td>\n",
       "    </tr>\n",
       "  </tbody>\n",
       "</table>\n"
      ],
      "text/plain": [
       "<pandas.io.formats.style.Styler at 0x2409f942d90>"
      ]
     },
     "execution_count": 30,
     "metadata": {},
     "output_type": "execute_result"
    }
   ],
   "source": [
    "# Make some good stuff to show our data in better color\n",
    "cm = sns.light_palette(\"red\", as_cmap= True)\n",
    "histo_days_emplo.style.background_gradient(cmap=cm)"
   ]
  },
  {
   "cell_type": "code",
   "execution_count": 95,
   "id": "86253e08",
   "metadata": {},
   "outputs": [
    {
     "data": {
      "image/png": "[encoded data removed]",
      "text/plain": [
       "<Figure size 640x480 with 1 Axes>"
      ]
     },
     "metadata": {},
     "output_type": "display_data"
    }
   ],
   "source": [
    "#creating a histogram \n",
    "data_project.hist(column= 'days_employed');"
   ]
  },
  {
   "cell_type": "markdown",
   "id": "418ff820",
   "metadata": {},
   "source": [
    "> Now we can say that our hardest workers belong to the civil servant category, and they have been working between 4000 to 6000 days in their career."
   ]
  },
  {
   "cell_type": "markdown",
   "id": "f9b8d919",
   "metadata": {},
   "source": [
    "\n",
    "\n",
    "# \"Children\"\n",
    "> let's check this one column  for problems that we have found  in another one, and find out if this column can give us a clear picture of understanding, or if we need to reprocess her.\n",
    "\n",
    "- (1) First, we will find  max() and min() values of the children we have.\n",
    "- (2) Next, if we find any problem like (\"-\" numbers or maybe 10+ children ) let's replace them with the mean value of children we counted for."
   ]
  },
  {
   "cell_type": "code",
   "execution_count": 32,
   "id": "77218187",
   "metadata": {},
   "outputs": [
    {
     "data": {
      "text/plain": [
       "-1"
      ]
     },
     "execution_count": 32,
     "metadata": {},
     "output_type": "execute_result"
    }
   ],
   "source": [
    "# In this step we will check max() and min() values for each person who have a children\n",
    "data_project['children'].min()"
   ]
  },
  {
   "cell_type": "markdown",
   "id": "87710438",
   "metadata": {},
   "source": [
    ">Something wrong with min() value need to work with that in further "
   ]
  },
  {
   "cell_type": "code",
   "execution_count": 33,
   "id": "cda2aa45",
   "metadata": {},
   "outputs": [
    {
     "data": {
      "text/plain": [
       "20"
      ]
     },
     "execution_count": 33,
     "metadata": {},
     "output_type": "execute_result"
    }
   ],
   "source": [
    "\n",
    "# Now we will check max() value \n",
    "data_project['children'].max()"
   ]
  },
  {
   "cell_type": "markdown",
   "id": "605e601b",
   "metadata": {},
   "source": [
    "> By checking these two parameters we found out, that we have a mess in our column too. Let's change all our problematic values by a mean number of children because, in reality, we can't analyze how many children each unique client has.\n",
    "First, we will replace all values equal to -1 by 0, and after will find the mean value and replace all mess by them."
   ]
  },
  {
   "cell_type": "code",
   "execution_count": 34,
   "id": "cb699e11",
   "metadata": {},
   "outputs": [],
   "source": [
    "# function for replacing our \"-1\" values by \"0\"\n",
    "data_project['children'] = data_project['children'].replace(-1,0)"
   ]
  },
  {
   "cell_type": "code",
   "execution_count": 35,
   "id": "d111fb67",
   "metadata": {},
   "outputs": [
    {
     "data": {
      "text/plain": [
       "0"
      ]
     },
     "execution_count": 35,
     "metadata": {},
     "output_type": "execute_result"
    }
   ],
   "source": [
    "data_project['children'].min() # Checking if all working well"
   ]
  },
  {
   "cell_type": "code",
   "execution_count": 36,
   "id": "b7b47214",
   "metadata": {},
   "outputs": [
    {
     "data": {
      "text/plain": [
       "0.5410917537746806"
      ]
     },
     "execution_count": 36,
     "metadata": {},
     "output_type": "execute_result"
    }
   ],
   "source": [
    "#finding mean value of children\n",
    "children_mean = data_project['children'].mean()\n",
    "children_mean"
   ]
  },
  {
   "cell_type": "code",
   "execution_count": 37,
   "id": "d47557ae",
   "metadata": {},
   "outputs": [],
   "source": [
    "#Let's round our value to a big one, and rewrite mean = \"1\"\n",
    "children_mean = 1"
   ]
  },
  {
   "cell_type": "code",
   "execution_count": 38,
   "id": "5bab5b59",
   "metadata": {},
   "outputs": [],
   "source": [
    "#now we will replace all problem values in one column with children mean\n",
    "data_project.loc[data_project['children'] > 10, 'children'] = children_mean"
   ]
  },
  {
   "cell_type": "markdown",
   "id": "9ab1f16b",
   "metadata": {},
   "source": [
    ">let's check if our work didn't pass in the wrong direction"
   ]
  },
  {
   "cell_type": "code",
   "execution_count": 39,
   "id": "c8c601ca",
   "metadata": {},
   "outputs": [
    {
     "data": {
      "text/plain": [
       "5"
      ]
     },
     "execution_count": 39,
     "metadata": {},
     "output_type": "execute_result"
    }
   ],
   "source": [
    "data_project['children'].max() # find max value"
   ]
  },
  {
   "cell_type": "code",
   "execution_count": 40,
   "id": "8c7757d7",
   "metadata": {},
   "outputs": [
    {
     "data": {
      "text/plain": [
       "0"
      ]
     },
     "execution_count": 40,
     "metadata": {},
     "output_type": "execute_result"
    }
   ],
   "source": [
    "data_project['children'].min() # find min value"
   ]
  },
  {
   "cell_type": "markdown",
   "id": "f0f948e3",
   "metadata": {},
   "source": [
    ">Now we will find out to which category of worker have belong the biggest amount of children, and creating a bit of visualization of that"
   ]
  },
  {
   "cell_type": "code",
   "execution_count": 41,
   "id": "3ec3e2bb",
   "metadata": {},
   "outputs": [
    {
     "data": {
      "text/html": [
       "<style type=\"text/css\">\n",
       "#T_fca69_row0_col0, #T_fca69_row1_col0, #T_fca69_row2_col0 {\n",
       "  background-color: #ffff00;\n",
       "  color: #000000;\n",
       "}\n",
       "#T_fca69_row3_col0, #T_fca69_row6_col0 {\n",
       "  background-color: #f2f2dd;\n",
       "  color: #000000;\n",
       "}\n",
       "#T_fca69_row4_col0 {\n",
       "  background-color: #f7f785;\n",
       "  color: #000000;\n",
       "}\n",
       "#T_fca69_row5_col0 {\n",
       "  background-color: #fcfc2c;\n",
       "  color: #000000;\n",
       "}\n",
       "#T_fca69_row7_col0 {\n",
       "  background-color: #f5f5b1;\n",
       "  color: #000000;\n",
       "}\n",
       "</style>\n",
       "<table id=\"T_fca69\">\n",
       "  <thead>\n",
       "    <tr>\n",
       "      <th class=\"blank level0\" >&nbsp;</th>\n",
       "      <th id=\"T_fca69_level0_col0\" class=\"col_heading level0 col0\" >children</th>\n",
       "    </tr>\n",
       "    <tr>\n",
       "      <th class=\"index_name level0\" >work_types</th>\n",
       "      <th class=\"blank col0\" >&nbsp;</th>\n",
       "    </tr>\n",
       "  </thead>\n",
       "  <tbody>\n",
       "    <tr>\n",
       "      <th id=\"T_fca69_level0_row0\" class=\"row_heading level0 row0\" >business</th>\n",
       "      <td id=\"T_fca69_row0_col0\" class=\"data row0 col0\" >5</td>\n",
       "    </tr>\n",
       "    <tr>\n",
       "      <th id=\"T_fca69_level0_row1\" class=\"row_heading level0 row1\" >civil servant</th>\n",
       "      <td id=\"T_fca69_row1_col0\" class=\"data row1 col0\" >5</td>\n",
       "    </tr>\n",
       "    <tr>\n",
       "      <th id=\"T_fca69_level0_row2\" class=\"row_heading level0 row2\" >employee</th>\n",
       "      <td id=\"T_fca69_row2_col0\" class=\"data row2 col0\" >5</td>\n",
       "    </tr>\n",
       "    <tr>\n",
       "      <th id=\"T_fca69_level0_row3\" class=\"row_heading level0 row3\" >entrepreneur</th>\n",
       "      <td id=\"T_fca69_row3_col0\" class=\"data row3 col0\" >0</td>\n",
       "    </tr>\n",
       "    <tr>\n",
       "      <th id=\"T_fca69_level0_row4\" class=\"row_heading level0 row4\" >paternity / maternity leave</th>\n",
       "      <td id=\"T_fca69_row4_col0\" class=\"data row4 col0\" >2</td>\n",
       "    </tr>\n",
       "    <tr>\n",
       "      <th id=\"T_fca69_level0_row5\" class=\"row_heading level0 row5\" >retiree</th>\n",
       "      <td id=\"T_fca69_row5_col0\" class=\"data row5 col0\" >4</td>\n",
       "    </tr>\n",
       "    <tr>\n",
       "      <th id=\"T_fca69_level0_row6\" class=\"row_heading level0 row6\" >student</th>\n",
       "      <td id=\"T_fca69_row6_col0\" class=\"data row6 col0\" >0</td>\n",
       "    </tr>\n",
       "    <tr>\n",
       "      <th id=\"T_fca69_level0_row7\" class=\"row_heading level0 row7\" >unemployed</th>\n",
       "      <td id=\"T_fca69_row7_col0\" class=\"data row7 col0\" >1</td>\n",
       "    </tr>\n",
       "  </tbody>\n",
       "</table>\n"
      ],
      "text/plain": [
       "<pandas.io.formats.style.Styler at 0x240a04e08e0>"
      ]
     },
     "execution_count": 41,
     "metadata": {},
     "output_type": "execute_result"
    }
   ],
   "source": [
    "children_amount = data_project.groupby(['work_types'])['children'].max()\n",
    "children_amount = pd.DataFrame(children_amount)\n",
    "cm = sns.light_palette(\"yellow\", as_cmap= True)\n",
    "children_amount.style.background_gradient(cmap=cm)"
   ]
  },
  {
   "cell_type": "code",
   "execution_count": 42,
   "id": "64c2532d",
   "metadata": {
    "scrolled": false
   },
   "outputs": [
    {
     "data": {
      "image/png": "[encoded data removed]",
      "text/plain": [
       "<Figure size 640x480 with 1 Axes>"
      ]
     },
     "metadata": {},
     "output_type": "display_data"
    }
   ],
   "source": [
    "# Creating a histogram\n",
    "data_project.hist(column= 'children');"
   ]
  },
  {
   "cell_type": "markdown",
   "id": "ae371771",
   "metadata": {},
   "source": [
    "> Here we see that the biggest amount of childrens belong to clients who has employees type of work, but most of our clients don't have any child"
   ]
  },
  {
   "cell_type": "markdown",
   "id": "5b5a6f94",
   "metadata": {},
   "source": [
    "\n",
    "\n",
    "# Family status\n",
    "Here we will work fast just to find out what unique family status we have, and if we will  find  some problems will solve it"
   ]
  },
  {
   "cell_type": "code",
   "execution_count": 43,
   "id": "3aa04978",
   "metadata": {},
   "outputs": [
    {
     "data": {
      "text/plain": [
       "array(['married', 'civil partnership', 'widow / widower', 'divorced',\n",
       "       'unmarried'], dtype=object)"
      ]
     },
     "execution_count": 43,
     "metadata": {},
     "output_type": "execute_result"
    }
   ],
   "source": [
    "data_project['family_status'].unique()"
   ]
  },
  {
   "cell_type": "markdown",
   "id": "4078ab6c",
   "metadata": {},
   "source": [
    "- We can group our clients by family status and check in which category belongs most of the workers"
   ]
  },
  {
   "cell_type": "code",
   "execution_count": 44,
   "id": "83fcf046",
   "metadata": {},
   "outputs": [
    {
     "data": {
      "image/png": "[encoded data removed]",
      "text/plain": [
       "<Figure size 640x480 with 1 Axes>"
      ]
     },
     "metadata": {},
     "output_type": "display_data"
    }
   ],
   "source": [
    "data_project['family_status'].hist();"
   ]
  },
  {
   "cell_type": "markdown",
   "id": "00c6cc64",
   "metadata": {},
   "source": [
    "Now we can see that most of our workers have married status\n",
    "Let's move to the next column"
   ]
  },
  {
   "cell_type": "markdown",
   "id": "f39c2147",
   "metadata": {},
   "source": [
    "# Gender \n",
    "- Let's check what mess we have or maybe don't, in this column, we will first look at unique, and if all is good go to the next column"
   ]
  },
  {
   "cell_type": "code",
   "execution_count": 45,
   "id": "5f6c1ab5",
   "metadata": {},
   "outputs": [
    {
     "data": {
      "text/plain": [
       "array(['F', 'M', 'XNA'], dtype=object)"
      ]
     },
     "execution_count": 45,
     "metadata": {},
     "output_type": "execute_result"
    }
   ],
   "source": [
    "data_project['gender'].unique()"
   ]
  },
  {
   "cell_type": "markdown",
   "id": "17f1b49b",
   "metadata": {},
   "source": [
    "> We see that we have some problems with 'XNA' values, lets's find how many of these problem values we have in our column and refill them with 'M'. Because in my opinion most of the ppl who go buy credit from one family a Male."
   ]
  },
  {
   "cell_type": "code",
   "execution_count": 46,
   "id": "d8d363ba",
   "metadata": {},
   "outputs": [
    {
     "data": {
      "text/plain": [
       "1"
      ]
     },
     "execution_count": 46,
     "metadata": {},
     "output_type": "execute_result"
    }
   ],
   "source": [
    "data_project['gender'][data_project['gender'] == 'XNA'].count()"
   ]
  },
  {
   "cell_type": "code",
   "execution_count": 47,
   "id": "f45e4f5f",
   "metadata": {},
   "outputs": [
    {
     "data": {
      "text/plain": [
       "F      14236\n",
       "M       7288\n",
       "XNA        1\n",
       "Name: gender, dtype: int64"
      ]
     },
     "execution_count": 47,
     "metadata": {},
     "output_type": "execute_result"
    }
   ],
   "source": [
    "#Now we will calculate what type of gender have most of our client\n",
    "data_project['gender'].value_counts()"
   ]
  },
  {
   "cell_type": "code",
   "execution_count": 48,
   "id": "58075265",
   "metadata": {},
   "outputs": [],
   "source": [
    "#From the previous code, we see that most of our clients are a Female \n",
    "#let's replace this one \"XNA\" with \"F\" type of gender and recheck if all working well\n",
    "data_project['gender'] = data_project['gender'].replace('XNA','F')"
   ]
  },
  {
   "cell_type": "code",
   "execution_count": 49,
   "id": "111b3894",
   "metadata": {},
   "outputs": [
    {
     "data": {
      "text/plain": [
       "array(['F', 'M'], dtype=object)"
      ]
     },
     "execution_count": 49,
     "metadata": {},
     "output_type": "execute_result"
    }
   ],
   "source": [
    "data_project['gender'].unique()"
   ]
  },
  {
   "cell_type": "markdown",
   "id": "1f6b166a",
   "metadata": {},
   "source": [
    "When the column came to work condition we can go to another one\n",
    "\n",
    "# Workstatus\n",
    "- In the same way as the last one, call the unique function and see what we have here."
   ]
  },
  {
   "cell_type": "code",
   "execution_count": 50,
   "id": "1d8cc95b",
   "metadata": {},
   "outputs": [
    {
     "data": {
      "text/plain": [
       "array(['employee', 'retiree', 'business', 'civil servant', 'unemployed',\n",
       "       'entrepreneur', 'student', 'paternity / maternity leave'],\n",
       "      dtype=object)"
      ]
     },
     "execution_count": 50,
     "metadata": {},
     "output_type": "execute_result"
    }
   ],
   "source": [
    "data_project['work_types'].unique()"
   ]
  },
  {
   "cell_type": "markdown",
   "id": "ccddfe60",
   "metadata": {},
   "source": [
    "Seems here all is a good go to the next column, where we found missing values and need to solve this problem for the next further steps\n",
    "\n",
    "# Salary\n",
    "\n",
    "- First we will find the mean value of salary more than 0, by each work_status, and after refilling our missing values\n",
    "- Checking  if all working well"
   ]
  },
  {
   "cell_type": "code",
   "execution_count": 51,
   "id": "2db0e8b8",
   "metadata": {},
   "outputs": [],
   "source": [
    "# let's find out the median from our table but only for values more than 0.\n",
    "median_sal = data_project.loc[data_project['salary'] > 0].agg({'salary': 'median'})# Function to find median"
   ]
  },
  {
   "cell_type": "code",
   "execution_count": 52,
   "id": "ad3a919b",
   "metadata": {},
   "outputs": [],
   "source": [
    "data_project = data_project.fillna(median_sal)#replace all missing values by median"
   ]
  },
  {
   "cell_type": "code",
   "execution_count": 53,
   "id": "56f98269",
   "metadata": {},
   "outputs": [
    {
     "data": {
      "text/plain": [
       "0"
      ]
     },
     "execution_count": 53,
     "metadata": {},
     "output_type": "execute_result"
    }
   ],
   "source": [
    "data_project['salary'].isnull().sum()# check if all values 0 changed"
   ]
  },
  {
   "cell_type": "code",
   "execution_count": 54,
   "id": "81b57fa5",
   "metadata": {
    "scrolled": true
   },
   "outputs": [
    {
     "data": {
      "text/html": [
       "<div>\n",
       "<style scoped>\n",
       "    .dataframe tbody tr th:only-of-type {\n",
       "        vertical-align: middle;\n",
       "    }\n",
       "\n",
       "    .dataframe tbody tr th {\n",
       "        vertical-align: top;\n",
       "    }\n",
       "\n",
       "    .dataframe thead th {\n",
       "        text-align: right;\n",
       "    }\n",
       "</style>\n",
       "<table border=\"1\" class=\"dataframe\">\n",
       "  <thead>\n",
       "    <tr style=\"text-align: right;\">\n",
       "      <th></th>\n",
       "      <th>children</th>\n",
       "      <th>days_employed</th>\n",
       "      <th>age</th>\n",
       "      <th>education</th>\n",
       "      <th>education_id</th>\n",
       "      <th>family_status</th>\n",
       "      <th>family_status_id</th>\n",
       "      <th>gender</th>\n",
       "      <th>work_types</th>\n",
       "      <th>debt</th>\n",
       "      <th>salary</th>\n",
       "      <th>purpose</th>\n",
       "    </tr>\n",
       "  </thead>\n",
       "  <tbody>\n",
       "    <tr>\n",
       "      <th>0</th>\n",
       "      <td>1</td>\n",
       "      <td>5550.0</td>\n",
       "      <td>42</td>\n",
       "      <td>bachelor's degree</td>\n",
       "      <td>0</td>\n",
       "      <td>married</td>\n",
       "      <td>0</td>\n",
       "      <td>F</td>\n",
       "      <td>employee</td>\n",
       "      <td>0</td>\n",
       "      <td>40620.102</td>\n",
       "      <td>purchase of the house</td>\n",
       "    </tr>\n",
       "    <tr>\n",
       "      <th>1</th>\n",
       "      <td>1</td>\n",
       "      <td>4218.0</td>\n",
       "      <td>36</td>\n",
       "      <td>secondary education</td>\n",
       "      <td>1</td>\n",
       "      <td>married</td>\n",
       "      <td>0</td>\n",
       "      <td>F</td>\n",
       "      <td>employee</td>\n",
       "      <td>0</td>\n",
       "      <td>17932.802</td>\n",
       "      <td>car purchase</td>\n",
       "    </tr>\n",
       "    <tr>\n",
       "      <th>2</th>\n",
       "      <td>0</td>\n",
       "      <td>3552.0</td>\n",
       "      <td>33</td>\n",
       "      <td>secondary education</td>\n",
       "      <td>1</td>\n",
       "      <td>married</td>\n",
       "      <td>0</td>\n",
       "      <td>M</td>\n",
       "      <td>employee</td>\n",
       "      <td>0</td>\n",
       "      <td>23341.752</td>\n",
       "      <td>purchase of the house</td>\n",
       "    </tr>\n",
       "    <tr>\n",
       "      <th>3</th>\n",
       "      <td>3</td>\n",
       "      <td>3330.0</td>\n",
       "      <td>32</td>\n",
       "      <td>secondary education</td>\n",
       "      <td>1</td>\n",
       "      <td>married</td>\n",
       "      <td>0</td>\n",
       "      <td>M</td>\n",
       "      <td>employee</td>\n",
       "      <td>0</td>\n",
       "      <td>42820.568</td>\n",
       "      <td>supplementary education</td>\n",
       "    </tr>\n",
       "    <tr>\n",
       "      <th>4</th>\n",
       "      <td>0</td>\n",
       "      <td>7992.0</td>\n",
       "      <td>53</td>\n",
       "      <td>secondary education</td>\n",
       "      <td>1</td>\n",
       "      <td>civil partnership</td>\n",
       "      <td>1</td>\n",
       "      <td>F</td>\n",
       "      <td>retiree</td>\n",
       "      <td>0</td>\n",
       "      <td>25378.572</td>\n",
       "      <td>to have a wedding</td>\n",
       "    </tr>\n",
       "    <tr>\n",
       "      <th>5</th>\n",
       "      <td>0</td>\n",
       "      <td>2220.0</td>\n",
       "      <td>27</td>\n",
       "      <td>bachelor's degree</td>\n",
       "      <td>0</td>\n",
       "      <td>civil partnership</td>\n",
       "      <td>1</td>\n",
       "      <td>M</td>\n",
       "      <td>business</td>\n",
       "      <td>0</td>\n",
       "      <td>40922.170</td>\n",
       "      <td>purchase of the house</td>\n",
       "    </tr>\n",
       "    <tr>\n",
       "      <th>6</th>\n",
       "      <td>0</td>\n",
       "      <td>5772.0</td>\n",
       "      <td>43</td>\n",
       "      <td>bachelor's degree</td>\n",
       "      <td>0</td>\n",
       "      <td>married</td>\n",
       "      <td>0</td>\n",
       "      <td>F</td>\n",
       "      <td>business</td>\n",
       "      <td>0</td>\n",
       "      <td>38484.156</td>\n",
       "      <td>housing transactions</td>\n",
       "    </tr>\n",
       "    <tr>\n",
       "      <th>7</th>\n",
       "      <td>0</td>\n",
       "      <td>7326.0</td>\n",
       "      <td>50</td>\n",
       "      <td>secondary education</td>\n",
       "      <td>1</td>\n",
       "      <td>married</td>\n",
       "      <td>0</td>\n",
       "      <td>M</td>\n",
       "      <td>employee</td>\n",
       "      <td>0</td>\n",
       "      <td>21731.829</td>\n",
       "      <td>education</td>\n",
       "    </tr>\n",
       "    <tr>\n",
       "      <th>8</th>\n",
       "      <td>2</td>\n",
       "      <td>3996.0</td>\n",
       "      <td>35</td>\n",
       "      <td>bachelor's degree</td>\n",
       "      <td>0</td>\n",
       "      <td>civil partnership</td>\n",
       "      <td>1</td>\n",
       "      <td>F</td>\n",
       "      <td>employee</td>\n",
       "      <td>0</td>\n",
       "      <td>15337.093</td>\n",
       "      <td>having a wedding</td>\n",
       "    </tr>\n",
       "    <tr>\n",
       "      <th>9</th>\n",
       "      <td>0</td>\n",
       "      <td>5328.0</td>\n",
       "      <td>41</td>\n",
       "      <td>secondary education</td>\n",
       "      <td>1</td>\n",
       "      <td>married</td>\n",
       "      <td>0</td>\n",
       "      <td>M</td>\n",
       "      <td>employee</td>\n",
       "      <td>0</td>\n",
       "      <td>23108.150</td>\n",
       "      <td>purchase of the house for my family</td>\n",
       "    </tr>\n",
       "    <tr>\n",
       "      <th>10</th>\n",
       "      <td>2</td>\n",
       "      <td>4218.0</td>\n",
       "      <td>36</td>\n",
       "      <td>bachelor's degree</td>\n",
       "      <td>0</td>\n",
       "      <td>married</td>\n",
       "      <td>0</td>\n",
       "      <td>M</td>\n",
       "      <td>business</td>\n",
       "      <td>0</td>\n",
       "      <td>18230.959</td>\n",
       "      <td>buy real estate</td>\n",
       "    </tr>\n",
       "    <tr>\n",
       "      <th>11</th>\n",
       "      <td>0</td>\n",
       "      <td>5106.0</td>\n",
       "      <td>40</td>\n",
       "      <td>secondary education</td>\n",
       "      <td>1</td>\n",
       "      <td>married</td>\n",
       "      <td>0</td>\n",
       "      <td>F</td>\n",
       "      <td>employee</td>\n",
       "      <td>0</td>\n",
       "      <td>12331.077</td>\n",
       "      <td>buy commercial real estate</td>\n",
       "    </tr>\n",
       "    <tr>\n",
       "      <th>12</th>\n",
       "      <td>0</td>\n",
       "      <td>10656.0</td>\n",
       "      <td>65</td>\n",
       "      <td>secondary education</td>\n",
       "      <td>1</td>\n",
       "      <td>civil partnership</td>\n",
       "      <td>1</td>\n",
       "      <td>M</td>\n",
       "      <td>retiree</td>\n",
       "      <td>0</td>\n",
       "      <td>23202.870</td>\n",
       "      <td>to have a wedding</td>\n",
       "    </tr>\n",
       "    <tr>\n",
       "      <th>13</th>\n",
       "      <td>0</td>\n",
       "      <td>8214.0</td>\n",
       "      <td>54</td>\n",
       "      <td>some college</td>\n",
       "      <td>2</td>\n",
       "      <td>married</td>\n",
       "      <td>0</td>\n",
       "      <td>F</td>\n",
       "      <td>employee</td>\n",
       "      <td>0</td>\n",
       "      <td>20873.317</td>\n",
       "      <td>car purchase</td>\n",
       "    </tr>\n",
       "    <tr>\n",
       "      <th>14</th>\n",
       "      <td>0</td>\n",
       "      <td>8658.0</td>\n",
       "      <td>56</td>\n",
       "      <td>bachelor's degree</td>\n",
       "      <td>0</td>\n",
       "      <td>civil partnership</td>\n",
       "      <td>1</td>\n",
       "      <td>F</td>\n",
       "      <td>business</td>\n",
       "      <td>1</td>\n",
       "      <td>26420.466</td>\n",
       "      <td>buy residential real estate</td>\n",
       "    </tr>\n",
       "  </tbody>\n",
       "</table>\n",
       "</div>"
      ],
      "text/plain": [
       "    children  days_employed  age            education  education_id  \\\n",
       "0          1         5550.0   42    bachelor's degree             0   \n",
       "1          1         4218.0   36  secondary education             1   \n",
       "2          0         3552.0   33  secondary education             1   \n",
       "3          3         3330.0   32  secondary education             1   \n",
       "4          0         7992.0   53  secondary education             1   \n",
       "5          0         2220.0   27    bachelor's degree             0   \n",
       "6          0         5772.0   43    bachelor's degree             0   \n",
       "7          0         7326.0   50  secondary education             1   \n",
       "8          2         3996.0   35    bachelor's degree             0   \n",
       "9          0         5328.0   41  secondary education             1   \n",
       "10         2         4218.0   36    bachelor's degree             0   \n",
       "11         0         5106.0   40  secondary education             1   \n",
       "12         0        10656.0   65  secondary education             1   \n",
       "13         0         8214.0   54         some college             2   \n",
       "14         0         8658.0   56    bachelor's degree             0   \n",
       "\n",
       "        family_status  family_status_id gender work_types  debt     salary  \\\n",
       "0             married                 0      F   employee     0  40620.102   \n",
       "1             married                 0      F   employee     0  17932.802   \n",
       "2             married                 0      M   employee     0  23341.752   \n",
       "3             married                 0      M   employee     0  42820.568   \n",
       "4   civil partnership                 1      F    retiree     0  25378.572   \n",
       "5   civil partnership                 1      M   business     0  40922.170   \n",
       "6             married                 0      F   business     0  38484.156   \n",
       "7             married                 0      M   employee     0  21731.829   \n",
       "8   civil partnership                 1      F   employee     0  15337.093   \n",
       "9             married                 0      M   employee     0  23108.150   \n",
       "10            married                 0      M   business     0  18230.959   \n",
       "11            married                 0      F   employee     0  12331.077   \n",
       "12  civil partnership                 1      M    retiree     0  23202.870   \n",
       "13            married                 0      F   employee     0  20873.317   \n",
       "14  civil partnership                 1      F   business     1  26420.466   \n",
       "\n",
       "                                purpose  \n",
       "0                 purchase of the house  \n",
       "1                          car purchase  \n",
       "2                 purchase of the house  \n",
       "3               supplementary education  \n",
       "4                     to have a wedding  \n",
       "5                 purchase of the house  \n",
       "6                  housing transactions  \n",
       "7                             education  \n",
       "8                      having a wedding  \n",
       "9   purchase of the house for my family  \n",
       "10                      buy real estate  \n",
       "11           buy commercial real estate  \n",
       "12                    to have a wedding  \n",
       "13                         car purchase  \n",
       "14          buy residential real estate  "
      ]
     },
     "execution_count": 54,
     "metadata": {},
     "output_type": "execute_result"
    }
   ],
   "source": [
    "data_project.head(15)"
   ]
  },
  {
   "cell_type": "markdown",
   "id": "ba010dde",
   "metadata": {},
   "source": [
    ">After processing our column and checking if all our values place in good condition we can sort them by work_types and show which work has the biggest salary from the mean of all work_types"
   ]
  },
  {
   "cell_type": "code",
   "execution_count": 55,
   "id": "1e367332",
   "metadata": {},
   "outputs": [
    {
     "data": {
      "text/html": [
       "<style type=\"text/css\">\n",
       "#T_21685_row0_col0 {\n",
       "  background-color: #f97070;\n",
       "  color: #f1f1f1;\n",
       "}\n",
       "#T_21685_row1_col0 {\n",
       "  background-color: #f88989;\n",
       "  color: #f1f1f1;\n",
       "}\n",
       "#T_21685_row2_col0 {\n",
       "  background-color: #f89191;\n",
       "  color: #000000;\n",
       "}\n",
       "#T_21685_row3_col0 {\n",
       "  background-color: #ff0000;\n",
       "  color: #f1f1f1;\n",
       "}\n",
       "#T_21685_row4_col0 {\n",
       "  background-color: #f3f0f0;\n",
       "  color: #000000;\n",
       "}\n",
       "#T_21685_row5_col0 {\n",
       "  background-color: #f7a5a5;\n",
       "  color: #000000;\n",
       "}\n",
       "#T_21685_row6_col0 {\n",
       "  background-color: #f5c8c8;\n",
       "  color: #000000;\n",
       "}\n",
       "#T_21685_row7_col0 {\n",
       "  background-color: #f6abab;\n",
       "  color: #000000;\n",
       "}\n",
       "</style>\n",
       "<table id=\"T_21685\">\n",
       "  <thead>\n",
       "    <tr>\n",
       "      <th class=\"blank level0\" >&nbsp;</th>\n",
       "      <th id=\"T_21685_level0_col0\" class=\"col_heading level0 col0\" >salary</th>\n",
       "    </tr>\n",
       "    <tr>\n",
       "      <th class=\"index_name level0\" >work_types</th>\n",
       "      <th class=\"blank col0\" >&nbsp;</th>\n",
       "    </tr>\n",
       "  </thead>\n",
       "  <tbody>\n",
       "    <tr>\n",
       "      <th id=\"T_21685_level0_row0\" class=\"row_heading level0 row0\" >business</th>\n",
       "      <td id=\"T_21685_row0_col0\" class=\"data row0 col0\" >31469</td>\n",
       "    </tr>\n",
       "    <tr>\n",
       "      <th id=\"T_21685_level0_row1\" class=\"row_heading level0 row1\" >civil servant</th>\n",
       "      <td id=\"T_21685_row1_col0\" class=\"data row1 col0\" >26926</td>\n",
       "    </tr>\n",
       "    <tr>\n",
       "      <th id=\"T_21685_level0_row2\" class=\"row_heading level0 row2\" >employee</th>\n",
       "      <td id=\"T_21685_row2_col0\" class=\"data row2 col0\" >25560</td>\n",
       "    </tr>\n",
       "    <tr>\n",
       "      <th id=\"T_21685_level0_row3\" class=\"row_heading level0 row3\" >entrepreneur</th>\n",
       "      <td id=\"T_21685_row3_col0\" class=\"data row3 col0\" >51534</td>\n",
       "    </tr>\n",
       "    <tr>\n",
       "      <th id=\"T_21685_level0_row4\" class=\"row_heading level0 row4\" >paternity / maternity leave</th>\n",
       "      <td id=\"T_21685_row4_col0\" class=\"data row4 col0\" >8612</td>\n",
       "    </tr>\n",
       "    <tr>\n",
       "      <th id=\"T_21685_level0_row5\" class=\"row_heading level0 row5\" >retiree</th>\n",
       "      <td id=\"T_21685_row5_col0\" class=\"data row5 col0\" >22075</td>\n",
       "    </tr>\n",
       "    <tr>\n",
       "      <th id=\"T_21685_level0_row6\" class=\"row_heading level0 row6\" >student</th>\n",
       "      <td id=\"T_21685_row6_col0\" class=\"data row6 col0\" >15712</td>\n",
       "    </tr>\n",
       "    <tr>\n",
       "      <th id=\"T_21685_level0_row7\" class=\"row_heading level0 row7\" >unemployed</th>\n",
       "      <td id=\"T_21685_row7_col0\" class=\"data row7 col0\" >21014</td>\n",
       "    </tr>\n",
       "  </tbody>\n",
       "</table>\n"
      ],
      "text/plain": [
       "<pandas.io.formats.style.Styler at 0x240a059e550>"
      ]
     },
     "execution_count": 55,
     "metadata": {},
     "output_type": "execute_result"
    }
   ],
   "source": [
    "group_salary = data_project.groupby(['work_types'])['salary'].mean()\n",
    "group_salary = pd.DataFrame(group_salary)\n",
    "group_salary = group_salary.astype(int)\n",
    "cm = sns.light_palette(\"red\", as_cmap= True)\n",
    "group_salary.style.background_gradient(cmap=cm)"
   ]
  },
  {
   "cell_type": "markdown",
   "id": "95771218",
   "metadata": {},
   "source": [
    "> Here we see that entrepreneur has the highest salary in our Data. Now we can go and check another column \"Purpose\"\n",
    "\n",
    "# Purpose\n",
    "- Check unique values \n",
    "- Solve the problems if we have "
   ]
  },
  {
   "cell_type": "code",
   "execution_count": 56,
   "id": "76f24812",
   "metadata": {},
   "outputs": [
    {
     "data": {
      "text/plain": [
       "array(['purchase of the house', 'car purchase', 'supplementary education',\n",
       "       'to have a wedding', 'housing transactions', 'education',\n",
       "       'having a wedding', 'purchase of the house for my family',\n",
       "       'buy real estate', 'buy commercial real estate',\n",
       "       'buy residential real estate', 'construction of own property',\n",
       "       'property', 'building a property', 'buying a second-hand car',\n",
       "       'buying my own car', 'transactions with commercial real estate',\n",
       "       'building a real estate', 'housing',\n",
       "       'transactions with my real estate', 'cars', 'to become educated',\n",
       "       'second-hand car purchase', 'getting an education', 'car',\n",
       "       'wedding ceremony', 'to get a supplementary education',\n",
       "       'purchase of my own house', 'real estate transactions',\n",
       "       'getting higher education', 'to own a car', 'purchase of a car',\n",
       "       'profile education', 'university education',\n",
       "       'buying property for renting out', 'to buy a car',\n",
       "       'housing renovation', 'going to university'], dtype=object)"
      ]
     },
     "execution_count": 56,
     "metadata": {},
     "output_type": "execute_result"
    }
   ],
   "source": [
    "data_project['purpose'].unique()"
   ]
  },
  {
   "cell_type": "markdown",
   "id": "6c0f44f7",
   "metadata": {},
   "source": [
    "> In this column we didn't find any mess or problem let's move on to another step\n",
    "\n",
    "# Conclusion\n",
    "\n",
    "There were missing values in ```days_employed``` and ```total_income``` columns. In total 10% of values were missing in each of the columns. Missing values were occurring in the same rows for the two columns. \n",
    "The total income of different job types and gender was not equal.Missing values of ```days_employed``` column was filled with values from our ```days_works``` function.\n",
    "The missing values from ```salary``` we replace by the 'mean' value from ```salary``` column by using all values not equal to '0'."
   ]
  },
  {
   "cell_type": "markdown",
   "id": "25d2704f",
   "metadata": {},
   "source": [
    "# Step3\n",
    "In this step we will replace all data types in our column from ```float64``` to ```int64``` and ```int64``` to ```int8``` and ```int32``` , to decrease the amount of memory. And will replace our ```object``` to ```string```\n",
    "\n",
    "- We will create a function that will convert our types of data to another data types\n"
   ]
  },
  {
   "cell_type": "code",
   "execution_count": 57,
   "id": "77a1be02",
   "metadata": {},
   "outputs": [
    {
     "name": "stdout",
     "output_type": "stream",
     "text": [
      "<class 'pandas.core.frame.DataFrame'>\n",
      "RangeIndex: 21525 entries, 0 to 21524\n",
      "Data columns (total 12 columns):\n",
      " #   Column            Non-Null Count  Dtype  \n",
      "---  ------            --------------  -----  \n",
      " 0   children          21525 non-null  int64  \n",
      " 1   days_employed     21525 non-null  float64\n",
      " 2   age               21525 non-null  int64  \n",
      " 3   education         21525 non-null  object \n",
      " 4   education_id      21525 non-null  int64  \n",
      " 5   family_status     21525 non-null  object \n",
      " 6   family_status_id  21525 non-null  int64  \n",
      " 7   gender            21525 non-null  object \n",
      " 8   work_types        21525 non-null  object \n",
      " 9   debt              21525 non-null  int64  \n",
      " 10  salary            21525 non-null  float64\n",
      " 11  purpose           21525 non-null  object \n",
      "dtypes: float64(2), int64(5), object(5)\n",
      "memory usage: 2.0+ MB\n"
     ]
    }
   ],
   "source": [
    "data_project.info()#Checking  again what types have our columns"
   ]
  },
  {
   "cell_type": "markdown",
   "id": "d0d7f466",
   "metadata": {},
   "source": [
    ">Our data is  use 1.9+ MB memory let's refill it with another type () of data and find out how many memory we will free"
   ]
  },
  {
   "cell_type": "code",
   "execution_count": 62,
   "id": "40a74587",
   "metadata": {},
   "outputs": [],
   "source": [
    "columns = ['children','age','education_id','family_status_id','debt']\n",
    "\n",
    "def convert_to(data,columns):\n",
    "    for col in columns:\n",
    "        data[col] = data[col].astype('int8')\n",
    "    return data\n",
    "data_project = convert_to(data_project,columns)"
   ]
  },
  {
   "cell_type": "code",
   "execution_count": 63,
   "id": "cb736c18",
   "metadata": {},
   "outputs": [],
   "source": [
    "columns = ['days_employed','salary']\n",
    "\n",
    "def convert_to(data,columns):\n",
    "    for col in columns:\n",
    "        data[col] = data[col].astype('int64')\n",
    "    return data\n",
    "data_project = convert_to(data_project,columns)"
   ]
  },
  {
   "cell_type": "code",
   "execution_count": 64,
   "id": "fc50967a",
   "metadata": {},
   "outputs": [],
   "source": [
    "columns = ['education','family_status', 'gender', 'work_types','purpose']\n",
    "\n",
    "def convert_to(data,columns):\n",
    "    for col in columns:\n",
    "        data[col] = data[col].astype('string')\n",
    "    return data\n",
    "data_project = convert_to(data_project,columns)"
   ]
  },
  {
   "cell_type": "code",
   "execution_count": 65,
   "id": "867f149d",
   "metadata": {},
   "outputs": [
    {
     "name": "stdout",
     "output_type": "stream",
     "text": [
      "<class 'pandas.core.frame.DataFrame'>\n",
      "RangeIndex: 21525 entries, 0 to 21524\n",
      "Data columns (total 12 columns):\n",
      " #   Column            Non-Null Count  Dtype \n",
      "---  ------            --------------  ----- \n",
      " 0   children          21525 non-null  int8  \n",
      " 1   days_employed     21525 non-null  int64 \n",
      " 2   age               21525 non-null  int8  \n",
      " 3   education         21525 non-null  string\n",
      " 4   education_id      21525 non-null  int8  \n",
      " 5   family_status     21525 non-null  string\n",
      " 6   family_status_id  21525 non-null  int8  \n",
      " 7   gender            21525 non-null  string\n",
      " 8   work_types        21525 non-null  string\n",
      " 9   debt              21525 non-null  int8  \n",
      " 10  salary            21525 non-null  int64 \n",
      " 11  purpose           21525 non-null  string\n",
      "dtypes: int64(2), int8(5), string(5)\n",
      "memory usage: 1.3 MB\n"
     ]
    }
   ],
   "source": [
    "data_project.info()"
   ]
  },
  {
   "cell_type": "markdown",
   "id": "b7e75e6f",
   "metadata": {},
   "source": [
    "> Now memory decreased from 1.9+MB to 1.3MB and data type of columns changed. By the way, it is easy to read the ```days_employed``` and ```total_income``` columns."
   ]
  },
  {
   "cell_type": "markdown",
   "id": "34745964",
   "metadata": {},
   "source": [
    "\n",
    "\n",
    "# Step3\n",
    "In this step, we will find out how many duplicates we have in our data and clean them up\n",
    "- Find them and drop them "
   ]
  },
  {
   "cell_type": "code",
   "execution_count": 66,
   "id": "ebdd279a",
   "metadata": {},
   "outputs": [
    {
     "data": {
      "text/plain": [
       "72"
      ]
     },
     "execution_count": 66,
     "metadata": {},
     "output_type": "execute_result"
    }
   ],
   "source": [
    "data_project.duplicated().sum()"
   ]
  },
  {
   "cell_type": "markdown",
   "id": "309b5aa4",
   "metadata": {},
   "source": [
    ">What we see from the last function is that we have 72 duplicates (rows) in our table. I propose to drop them because there is not a big amount of them from all data with 21525 rows. Let's use the method to drop all duplicates from data, with function ```rese_index``` to restore our index after we deleted specific rows."
   ]
  },
  {
   "cell_type": "code",
   "execution_count": 67,
   "id": "059b18d6",
   "metadata": {},
   "outputs": [],
   "source": [
    "data_project = data_project.drop_duplicates(keep = False).reset_index()"
   ]
  },
  {
   "cell_type": "markdown",
   "id": "6bc754af",
   "metadata": {},
   "source": [
    ">After we deleted our duplicates we can print() our data and look how she's changed from all steps that we have done."
   ]
  },
  {
   "cell_type": "code",
   "execution_count": 68,
   "id": "520d22fd",
   "metadata": {},
   "outputs": [
    {
     "data": {
      "text/html": [
       "<style type=\"text/css\">\n",
       "#T_fbf9a_row0_col0, #T_fbf9a_row0_col5, #T_fbf9a_row0_col7, #T_fbf9a_row0_col10, #T_fbf9a_row1_col7, #T_fbf9a_row1_col10, #T_fbf9a_row2_col1, #T_fbf9a_row2_col7, #T_fbf9a_row2_col10, #T_fbf9a_row3_col7, #T_fbf9a_row3_col10, #T_fbf9a_row4_col1, #T_fbf9a_row4_col10, #T_fbf9a_row5_col1, #T_fbf9a_row5_col2, #T_fbf9a_row5_col3, #T_fbf9a_row5_col5, #T_fbf9a_row5_col10, #T_fbf9a_row6_col1, #T_fbf9a_row6_col5, #T_fbf9a_row6_col7, #T_fbf9a_row6_col10, #T_fbf9a_row7_col1, #T_fbf9a_row7_col7, #T_fbf9a_row7_col10, #T_fbf9a_row8_col5, #T_fbf9a_row8_col10, #T_fbf9a_row9_col1, #T_fbf9a_row9_col7, #T_fbf9a_row9_col10, #T_fbf9a_row10_col5, #T_fbf9a_row10_col7, #T_fbf9a_row10_col10, #T_fbf9a_row11_col1, #T_fbf9a_row11_col7, #T_fbf9a_row11_col10, #T_fbf9a_row11_col11, #T_fbf9a_row12_col1, #T_fbf9a_row12_col10, #T_fbf9a_row13_col1, #T_fbf9a_row13_col7, #T_fbf9a_row13_col10, #T_fbf9a_row14_col1, #T_fbf9a_row14_col5 {\n",
       "  background-color: #ebf3eb;\n",
       "  color: #000000;\n",
       "}\n",
       "#T_fbf9a_row0_col1, #T_fbf9a_row1_col1 {\n",
       "  background-color: #9ccd9c;\n",
       "  color: #000000;\n",
       "}\n",
       "#T_fbf9a_row0_col2, #T_fbf9a_row0_col3 {\n",
       "  background-color: #8ec58e;\n",
       "  color: #000000;\n",
       "}\n",
       "#T_fbf9a_row0_col11, #T_fbf9a_row13_col0 {\n",
       "  background-color: #118811;\n",
       "  color: #f1f1f1;\n",
       "}\n",
       "#T_fbf9a_row1_col0 {\n",
       "  background-color: #daebda;\n",
       "  color: #000000;\n",
       "}\n",
       "#T_fbf9a_row1_col2, #T_fbf9a_row1_col3, #T_fbf9a_row10_col2, #T_fbf9a_row10_col3 {\n",
       "  background-color: #b3d8b3;\n",
       "  color: #000000;\n",
       "}\n",
       "#T_fbf9a_row1_col5, #T_fbf9a_row2_col5, #T_fbf9a_row3_col5, #T_fbf9a_row4_col5, #T_fbf9a_row7_col0, #T_fbf9a_row7_col5, #T_fbf9a_row9_col5, #T_fbf9a_row11_col5, #T_fbf9a_row12_col5 {\n",
       "  background-color: #75b975;\n",
       "  color: #f1f1f1;\n",
       "}\n",
       "#T_fbf9a_row1_col11 {\n",
       "  background-color: #bfdebf;\n",
       "  color: #000000;\n",
       "}\n",
       "#T_fbf9a_row2_col0 {\n",
       "  background-color: #c9e3c9;\n",
       "  color: #000000;\n",
       "}\n",
       "#T_fbf9a_row2_col2, #T_fbf9a_row2_col3 {\n",
       "  background-color: #c6e1c6;\n",
       "  color: #000000;\n",
       "}\n",
       "#T_fbf9a_row2_col11 {\n",
       "  background-color: #96c996;\n",
       "  color: #000000;\n",
       "}\n",
       "#T_fbf9a_row3_col0 {\n",
       "  background-color: #b9dbb9;\n",
       "  color: #000000;\n",
       "}\n",
       "#T_fbf9a_row3_col1, #T_fbf9a_row3_col11, #T_fbf9a_row4_col7, #T_fbf9a_row5_col7, #T_fbf9a_row8_col7, #T_fbf9a_row12_col2, #T_fbf9a_row12_col3, #T_fbf9a_row12_col7, #T_fbf9a_row13_col5, #T_fbf9a_row14_col0, #T_fbf9a_row14_col7, #T_fbf9a_row14_col10 {\n",
       "  background-color: #008000;\n",
       "  color: #f1f1f1;\n",
       "}\n",
       "#T_fbf9a_row3_col2, #T_fbf9a_row3_col3 {\n",
       "  background-color: #cce4cc;\n",
       "  color: #000000;\n",
       "}\n",
       "#T_fbf9a_row4_col0 {\n",
       "  background-color: #a7d2a7;\n",
       "  color: #000000;\n",
       "}\n",
       "#T_fbf9a_row4_col2, #T_fbf9a_row4_col3 {\n",
       "  background-color: #4aa44a;\n",
       "  color: #f1f1f1;\n",
       "}\n",
       "#T_fbf9a_row4_col11, #T_fbf9a_row6_col0 {\n",
       "  background-color: #86c286;\n",
       "  color: #000000;\n",
       "}\n",
       "#T_fbf9a_row5_col0, #T_fbf9a_row12_col11 {\n",
       "  background-color: #97ca97;\n",
       "  color: #000000;\n",
       "}\n",
       "#T_fbf9a_row5_col11 {\n",
       "  background-color: #0e870e;\n",
       "  color: #f1f1f1;\n",
       "}\n",
       "#T_fbf9a_row6_col2, #T_fbf9a_row6_col3 {\n",
       "  background-color: #88c388;\n",
       "  color: #000000;\n",
       "}\n",
       "#T_fbf9a_row6_col11, #T_fbf9a_row12_col0 {\n",
       "  background-color: #219021;\n",
       "  color: #f1f1f1;\n",
       "}\n",
       "#T_fbf9a_row7_col2, #T_fbf9a_row7_col3 {\n",
       "  background-color: #5dae5d;\n",
       "  color: #f1f1f1;\n",
       "}\n",
       "#T_fbf9a_row7_col11 {\n",
       "  background-color: #a3d0a3;\n",
       "  color: #000000;\n",
       "}\n",
       "#T_fbf9a_row8_col0 {\n",
       "  background-color: #64b164;\n",
       "  color: #f1f1f1;\n",
       "}\n",
       "#T_fbf9a_row8_col1, #T_fbf9a_row10_col1 {\n",
       "  background-color: #4ea64e;\n",
       "  color: #f1f1f1;\n",
       "}\n",
       "#T_fbf9a_row8_col2, #T_fbf9a_row8_col3 {\n",
       "  background-color: #badbba;\n",
       "  color: #000000;\n",
       "}\n",
       "#T_fbf9a_row8_col11 {\n",
       "  background-color: #d4e8d4;\n",
       "  color: #000000;\n",
       "}\n",
       "#T_fbf9a_row9_col0 {\n",
       "  background-color: #54a954;\n",
       "  color: #f1f1f1;\n",
       "}\n",
       "#T_fbf9a_row9_col2, #T_fbf9a_row9_col3 {\n",
       "  background-color: #94c994;\n",
       "  color: #000000;\n",
       "}\n",
       "#T_fbf9a_row9_col11 {\n",
       "  background-color: #98ca98;\n",
       "  color: #000000;\n",
       "}\n",
       "#T_fbf9a_row10_col0 {\n",
       "  background-color: #43a143;\n",
       "  color: #f1f1f1;\n",
       "}\n",
       "#T_fbf9a_row10_col11 {\n",
       "  background-color: #bdddbd;\n",
       "  color: #000000;\n",
       "}\n",
       "#T_fbf9a_row11_col0 {\n",
       "  background-color: #329832;\n",
       "  color: #f1f1f1;\n",
       "}\n",
       "#T_fbf9a_row11_col2, #T_fbf9a_row11_col3 {\n",
       "  background-color: #9bcc9b;\n",
       "  color: #000000;\n",
       "}\n",
       "#T_fbf9a_row13_col2, #T_fbf9a_row13_col3 {\n",
       "  background-color: #44a144;\n",
       "  color: #f1f1f1;\n",
       "}\n",
       "#T_fbf9a_row13_col11 {\n",
       "  background-color: #a9d3a9;\n",
       "  color: #000000;\n",
       "}\n",
       "#T_fbf9a_row14_col2, #T_fbf9a_row14_col3 {\n",
       "  background-color: #379b37;\n",
       "  color: #f1f1f1;\n",
       "}\n",
       "#T_fbf9a_row14_col11 {\n",
       "  background-color: #7ebe7e;\n",
       "  color: #000000;\n",
       "}\n",
       "</style>\n",
       "<table id=\"T_fbf9a\">\n",
       "  <thead>\n",
       "    <tr>\n",
       "      <th class=\"blank level0\" >&nbsp;</th>\n",
       "      <th id=\"T_fbf9a_level0_col0\" class=\"col_heading level0 col0\" >index</th>\n",
       "      <th id=\"T_fbf9a_level0_col1\" class=\"col_heading level0 col1\" >children</th>\n",
       "      <th id=\"T_fbf9a_level0_col2\" class=\"col_heading level0 col2\" >days_employed</th>\n",
       "      <th id=\"T_fbf9a_level0_col3\" class=\"col_heading level0 col3\" >age</th>\n",
       "      <th id=\"T_fbf9a_level0_col4\" class=\"col_heading level0 col4\" >education</th>\n",
       "      <th id=\"T_fbf9a_level0_col5\" class=\"col_heading level0 col5\" >education_id</th>\n",
       "      <th id=\"T_fbf9a_level0_col6\" class=\"col_heading level0 col6\" >family_status</th>\n",
       "      <th id=\"T_fbf9a_level0_col7\" class=\"col_heading level0 col7\" >family_status_id</th>\n",
       "      <th id=\"T_fbf9a_level0_col8\" class=\"col_heading level0 col8\" >gender</th>\n",
       "      <th id=\"T_fbf9a_level0_col9\" class=\"col_heading level0 col9\" >work_types</th>\n",
       "      <th id=\"T_fbf9a_level0_col10\" class=\"col_heading level0 col10\" >debt</th>\n",
       "      <th id=\"T_fbf9a_level0_col11\" class=\"col_heading level0 col11\" >salary</th>\n",
       "      <th id=\"T_fbf9a_level0_col12\" class=\"col_heading level0 col12\" >purpose</th>\n",
       "    </tr>\n",
       "  </thead>\n",
       "  <tbody>\n",
       "    <tr>\n",
       "      <th id=\"T_fbf9a_level0_row0\" class=\"row_heading level0 row0\" >0</th>\n",
       "      <td id=\"T_fbf9a_row0_col0\" class=\"data row0 col0\" >0</td>\n",
       "      <td id=\"T_fbf9a_row0_col1\" class=\"data row0 col1\" >1</td>\n",
       "      <td id=\"T_fbf9a_row0_col2\" class=\"data row0 col2\" >5550</td>\n",
       "      <td id=\"T_fbf9a_row0_col3\" class=\"data row0 col3\" >42</td>\n",
       "      <td id=\"T_fbf9a_row0_col4\" class=\"data row0 col4\" >bachelor's degree</td>\n",
       "      <td id=\"T_fbf9a_row0_col5\" class=\"data row0 col5\" >0</td>\n",
       "      <td id=\"T_fbf9a_row0_col6\" class=\"data row0 col6\" >married</td>\n",
       "      <td id=\"T_fbf9a_row0_col7\" class=\"data row0 col7\" >0</td>\n",
       "      <td id=\"T_fbf9a_row0_col8\" class=\"data row0 col8\" >F</td>\n",
       "      <td id=\"T_fbf9a_row0_col9\" class=\"data row0 col9\" >employee</td>\n",
       "      <td id=\"T_fbf9a_row0_col10\" class=\"data row0 col10\" >0</td>\n",
       "      <td id=\"T_fbf9a_row0_col11\" class=\"data row0 col11\" >40620</td>\n",
       "      <td id=\"T_fbf9a_row0_col12\" class=\"data row0 col12\" >purchase of the house</td>\n",
       "    </tr>\n",
       "    <tr>\n",
       "      <th id=\"T_fbf9a_level0_row1\" class=\"row_heading level0 row1\" >1</th>\n",
       "      <td id=\"T_fbf9a_row1_col0\" class=\"data row1 col0\" >1</td>\n",
       "      <td id=\"T_fbf9a_row1_col1\" class=\"data row1 col1\" >1</td>\n",
       "      <td id=\"T_fbf9a_row1_col2\" class=\"data row1 col2\" >4218</td>\n",
       "      <td id=\"T_fbf9a_row1_col3\" class=\"data row1 col3\" >36</td>\n",
       "      <td id=\"T_fbf9a_row1_col4\" class=\"data row1 col4\" >secondary education</td>\n",
       "      <td id=\"T_fbf9a_row1_col5\" class=\"data row1 col5\" >1</td>\n",
       "      <td id=\"T_fbf9a_row1_col6\" class=\"data row1 col6\" >married</td>\n",
       "      <td id=\"T_fbf9a_row1_col7\" class=\"data row1 col7\" >0</td>\n",
       "      <td id=\"T_fbf9a_row1_col8\" class=\"data row1 col8\" >F</td>\n",
       "      <td id=\"T_fbf9a_row1_col9\" class=\"data row1 col9\" >employee</td>\n",
       "      <td id=\"T_fbf9a_row1_col10\" class=\"data row1 col10\" >0</td>\n",
       "      <td id=\"T_fbf9a_row1_col11\" class=\"data row1 col11\" >17932</td>\n",
       "      <td id=\"T_fbf9a_row1_col12\" class=\"data row1 col12\" >car purchase</td>\n",
       "    </tr>\n",
       "    <tr>\n",
       "      <th id=\"T_fbf9a_level0_row2\" class=\"row_heading level0 row2\" >2</th>\n",
       "      <td id=\"T_fbf9a_row2_col0\" class=\"data row2 col0\" >2</td>\n",
       "      <td id=\"T_fbf9a_row2_col1\" class=\"data row2 col1\" >0</td>\n",
       "      <td id=\"T_fbf9a_row2_col2\" class=\"data row2 col2\" >3552</td>\n",
       "      <td id=\"T_fbf9a_row2_col3\" class=\"data row2 col3\" >33</td>\n",
       "      <td id=\"T_fbf9a_row2_col4\" class=\"data row2 col4\" >secondary education</td>\n",
       "      <td id=\"T_fbf9a_row2_col5\" class=\"data row2 col5\" >1</td>\n",
       "      <td id=\"T_fbf9a_row2_col6\" class=\"data row2 col6\" >married</td>\n",
       "      <td id=\"T_fbf9a_row2_col7\" class=\"data row2 col7\" >0</td>\n",
       "      <td id=\"T_fbf9a_row2_col8\" class=\"data row2 col8\" >M</td>\n",
       "      <td id=\"T_fbf9a_row2_col9\" class=\"data row2 col9\" >employee</td>\n",
       "      <td id=\"T_fbf9a_row2_col10\" class=\"data row2 col10\" >0</td>\n",
       "      <td id=\"T_fbf9a_row2_col11\" class=\"data row2 col11\" >23341</td>\n",
       "      <td id=\"T_fbf9a_row2_col12\" class=\"data row2 col12\" >purchase of the house</td>\n",
       "    </tr>\n",
       "    <tr>\n",
       "      <th id=\"T_fbf9a_level0_row3\" class=\"row_heading level0 row3\" >3</th>\n",
       "      <td id=\"T_fbf9a_row3_col0\" class=\"data row3 col0\" >3</td>\n",
       "      <td id=\"T_fbf9a_row3_col1\" class=\"data row3 col1\" >3</td>\n",
       "      <td id=\"T_fbf9a_row3_col2\" class=\"data row3 col2\" >3330</td>\n",
       "      <td id=\"T_fbf9a_row3_col3\" class=\"data row3 col3\" >32</td>\n",
       "      <td id=\"T_fbf9a_row3_col4\" class=\"data row3 col4\" >secondary education</td>\n",
       "      <td id=\"T_fbf9a_row3_col5\" class=\"data row3 col5\" >1</td>\n",
       "      <td id=\"T_fbf9a_row3_col6\" class=\"data row3 col6\" >married</td>\n",
       "      <td id=\"T_fbf9a_row3_col7\" class=\"data row3 col7\" >0</td>\n",
       "      <td id=\"T_fbf9a_row3_col8\" class=\"data row3 col8\" >M</td>\n",
       "      <td id=\"T_fbf9a_row3_col9\" class=\"data row3 col9\" >employee</td>\n",
       "      <td id=\"T_fbf9a_row3_col10\" class=\"data row3 col10\" >0</td>\n",
       "      <td id=\"T_fbf9a_row3_col11\" class=\"data row3 col11\" >42820</td>\n",
       "      <td id=\"T_fbf9a_row3_col12\" class=\"data row3 col12\" >supplementary education</td>\n",
       "    </tr>\n",
       "    <tr>\n",
       "      <th id=\"T_fbf9a_level0_row4\" class=\"row_heading level0 row4\" >4</th>\n",
       "      <td id=\"T_fbf9a_row4_col0\" class=\"data row4 col0\" >4</td>\n",
       "      <td id=\"T_fbf9a_row4_col1\" class=\"data row4 col1\" >0</td>\n",
       "      <td id=\"T_fbf9a_row4_col2\" class=\"data row4 col2\" >7992</td>\n",
       "      <td id=\"T_fbf9a_row4_col3\" class=\"data row4 col3\" >53</td>\n",
       "      <td id=\"T_fbf9a_row4_col4\" class=\"data row4 col4\" >secondary education</td>\n",
       "      <td id=\"T_fbf9a_row4_col5\" class=\"data row4 col5\" >1</td>\n",
       "      <td id=\"T_fbf9a_row4_col6\" class=\"data row4 col6\" >civil partnership</td>\n",
       "      <td id=\"T_fbf9a_row4_col7\" class=\"data row4 col7\" >1</td>\n",
       "      <td id=\"T_fbf9a_row4_col8\" class=\"data row4 col8\" >F</td>\n",
       "      <td id=\"T_fbf9a_row4_col9\" class=\"data row4 col9\" >retiree</td>\n",
       "      <td id=\"T_fbf9a_row4_col10\" class=\"data row4 col10\" >0</td>\n",
       "      <td id=\"T_fbf9a_row4_col11\" class=\"data row4 col11\" >25378</td>\n",
       "      <td id=\"T_fbf9a_row4_col12\" class=\"data row4 col12\" >to have a wedding</td>\n",
       "    </tr>\n",
       "    <tr>\n",
       "      <th id=\"T_fbf9a_level0_row5\" class=\"row_heading level0 row5\" >5</th>\n",
       "      <td id=\"T_fbf9a_row5_col0\" class=\"data row5 col0\" >5</td>\n",
       "      <td id=\"T_fbf9a_row5_col1\" class=\"data row5 col1\" >0</td>\n",
       "      <td id=\"T_fbf9a_row5_col2\" class=\"data row5 col2\" >2220</td>\n",
       "      <td id=\"T_fbf9a_row5_col3\" class=\"data row5 col3\" >27</td>\n",
       "      <td id=\"T_fbf9a_row5_col4\" class=\"data row5 col4\" >bachelor's degree</td>\n",
       "      <td id=\"T_fbf9a_row5_col5\" class=\"data row5 col5\" >0</td>\n",
       "      <td id=\"T_fbf9a_row5_col6\" class=\"data row5 col6\" >civil partnership</td>\n",
       "      <td id=\"T_fbf9a_row5_col7\" class=\"data row5 col7\" >1</td>\n",
       "      <td id=\"T_fbf9a_row5_col8\" class=\"data row5 col8\" >M</td>\n",
       "      <td id=\"T_fbf9a_row5_col9\" class=\"data row5 col9\" >business</td>\n",
       "      <td id=\"T_fbf9a_row5_col10\" class=\"data row5 col10\" >0</td>\n",
       "      <td id=\"T_fbf9a_row5_col11\" class=\"data row5 col11\" >40922</td>\n",
       "      <td id=\"T_fbf9a_row5_col12\" class=\"data row5 col12\" >purchase of the house</td>\n",
       "    </tr>\n",
       "    <tr>\n",
       "      <th id=\"T_fbf9a_level0_row6\" class=\"row_heading level0 row6\" >6</th>\n",
       "      <td id=\"T_fbf9a_row6_col0\" class=\"data row6 col0\" >6</td>\n",
       "      <td id=\"T_fbf9a_row6_col1\" class=\"data row6 col1\" >0</td>\n",
       "      <td id=\"T_fbf9a_row6_col2\" class=\"data row6 col2\" >5772</td>\n",
       "      <td id=\"T_fbf9a_row6_col3\" class=\"data row6 col3\" >43</td>\n",
       "      <td id=\"T_fbf9a_row6_col4\" class=\"data row6 col4\" >bachelor's degree</td>\n",
       "      <td id=\"T_fbf9a_row6_col5\" class=\"data row6 col5\" >0</td>\n",
       "      <td id=\"T_fbf9a_row6_col6\" class=\"data row6 col6\" >married</td>\n",
       "      <td id=\"T_fbf9a_row6_col7\" class=\"data row6 col7\" >0</td>\n",
       "      <td id=\"T_fbf9a_row6_col8\" class=\"data row6 col8\" >F</td>\n",
       "      <td id=\"T_fbf9a_row6_col9\" class=\"data row6 col9\" >business</td>\n",
       "      <td id=\"T_fbf9a_row6_col10\" class=\"data row6 col10\" >0</td>\n",
       "      <td id=\"T_fbf9a_row6_col11\" class=\"data row6 col11\" >38484</td>\n",
       "      <td id=\"T_fbf9a_row6_col12\" class=\"data row6 col12\" >housing transactions</td>\n",
       "    </tr>\n",
       "    <tr>\n",
       "      <th id=\"T_fbf9a_level0_row7\" class=\"row_heading level0 row7\" >7</th>\n",
       "      <td id=\"T_fbf9a_row7_col0\" class=\"data row7 col0\" >7</td>\n",
       "      <td id=\"T_fbf9a_row7_col1\" class=\"data row7 col1\" >0</td>\n",
       "      <td id=\"T_fbf9a_row7_col2\" class=\"data row7 col2\" >7326</td>\n",
       "      <td id=\"T_fbf9a_row7_col3\" class=\"data row7 col3\" >50</td>\n",
       "      <td id=\"T_fbf9a_row7_col4\" class=\"data row7 col4\" >secondary education</td>\n",
       "      <td id=\"T_fbf9a_row7_col5\" class=\"data row7 col5\" >1</td>\n",
       "      <td id=\"T_fbf9a_row7_col6\" class=\"data row7 col6\" >married</td>\n",
       "      <td id=\"T_fbf9a_row7_col7\" class=\"data row7 col7\" >0</td>\n",
       "      <td id=\"T_fbf9a_row7_col8\" class=\"data row7 col8\" >M</td>\n",
       "      <td id=\"T_fbf9a_row7_col9\" class=\"data row7 col9\" >employee</td>\n",
       "      <td id=\"T_fbf9a_row7_col10\" class=\"data row7 col10\" >0</td>\n",
       "      <td id=\"T_fbf9a_row7_col11\" class=\"data row7 col11\" >21731</td>\n",
       "      <td id=\"T_fbf9a_row7_col12\" class=\"data row7 col12\" >education</td>\n",
       "    </tr>\n",
       "    <tr>\n",
       "      <th id=\"T_fbf9a_level0_row8\" class=\"row_heading level0 row8\" >8</th>\n",
       "      <td id=\"T_fbf9a_row8_col0\" class=\"data row8 col0\" >8</td>\n",
       "      <td id=\"T_fbf9a_row8_col1\" class=\"data row8 col1\" >2</td>\n",
       "      <td id=\"T_fbf9a_row8_col2\" class=\"data row8 col2\" >3996</td>\n",
       "      <td id=\"T_fbf9a_row8_col3\" class=\"data row8 col3\" >35</td>\n",
       "      <td id=\"T_fbf9a_row8_col4\" class=\"data row8 col4\" >bachelor's degree</td>\n",
       "      <td id=\"T_fbf9a_row8_col5\" class=\"data row8 col5\" >0</td>\n",
       "      <td id=\"T_fbf9a_row8_col6\" class=\"data row8 col6\" >civil partnership</td>\n",
       "      <td id=\"T_fbf9a_row8_col7\" class=\"data row8 col7\" >1</td>\n",
       "      <td id=\"T_fbf9a_row8_col8\" class=\"data row8 col8\" >F</td>\n",
       "      <td id=\"T_fbf9a_row8_col9\" class=\"data row8 col9\" >employee</td>\n",
       "      <td id=\"T_fbf9a_row8_col10\" class=\"data row8 col10\" >0</td>\n",
       "      <td id=\"T_fbf9a_row8_col11\" class=\"data row8 col11\" >15337</td>\n",
       "      <td id=\"T_fbf9a_row8_col12\" class=\"data row8 col12\" >having a wedding</td>\n",
       "    </tr>\n",
       "    <tr>\n",
       "      <th id=\"T_fbf9a_level0_row9\" class=\"row_heading level0 row9\" >9</th>\n",
       "      <td id=\"T_fbf9a_row9_col0\" class=\"data row9 col0\" >9</td>\n",
       "      <td id=\"T_fbf9a_row9_col1\" class=\"data row9 col1\" >0</td>\n",
       "      <td id=\"T_fbf9a_row9_col2\" class=\"data row9 col2\" >5328</td>\n",
       "      <td id=\"T_fbf9a_row9_col3\" class=\"data row9 col3\" >41</td>\n",
       "      <td id=\"T_fbf9a_row9_col4\" class=\"data row9 col4\" >secondary education</td>\n",
       "      <td id=\"T_fbf9a_row9_col5\" class=\"data row9 col5\" >1</td>\n",
       "      <td id=\"T_fbf9a_row9_col6\" class=\"data row9 col6\" >married</td>\n",
       "      <td id=\"T_fbf9a_row9_col7\" class=\"data row9 col7\" >0</td>\n",
       "      <td id=\"T_fbf9a_row9_col8\" class=\"data row9 col8\" >M</td>\n",
       "      <td id=\"T_fbf9a_row9_col9\" class=\"data row9 col9\" >employee</td>\n",
       "      <td id=\"T_fbf9a_row9_col10\" class=\"data row9 col10\" >0</td>\n",
       "      <td id=\"T_fbf9a_row9_col11\" class=\"data row9 col11\" >23108</td>\n",
       "      <td id=\"T_fbf9a_row9_col12\" class=\"data row9 col12\" >purchase of the house for my family</td>\n",
       "    </tr>\n",
       "    <tr>\n",
       "      <th id=\"T_fbf9a_level0_row10\" class=\"row_heading level0 row10\" >10</th>\n",
       "      <td id=\"T_fbf9a_row10_col0\" class=\"data row10 col0\" >10</td>\n",
       "      <td id=\"T_fbf9a_row10_col1\" class=\"data row10 col1\" >2</td>\n",
       "      <td id=\"T_fbf9a_row10_col2\" class=\"data row10 col2\" >4218</td>\n",
       "      <td id=\"T_fbf9a_row10_col3\" class=\"data row10 col3\" >36</td>\n",
       "      <td id=\"T_fbf9a_row10_col4\" class=\"data row10 col4\" >bachelor's degree</td>\n",
       "      <td id=\"T_fbf9a_row10_col5\" class=\"data row10 col5\" >0</td>\n",
       "      <td id=\"T_fbf9a_row10_col6\" class=\"data row10 col6\" >married</td>\n",
       "      <td id=\"T_fbf9a_row10_col7\" class=\"data row10 col7\" >0</td>\n",
       "      <td id=\"T_fbf9a_row10_col8\" class=\"data row10 col8\" >M</td>\n",
       "      <td id=\"T_fbf9a_row10_col9\" class=\"data row10 col9\" >business</td>\n",
       "      <td id=\"T_fbf9a_row10_col10\" class=\"data row10 col10\" >0</td>\n",
       "      <td id=\"T_fbf9a_row10_col11\" class=\"data row10 col11\" >18230</td>\n",
       "      <td id=\"T_fbf9a_row10_col12\" class=\"data row10 col12\" >buy real estate</td>\n",
       "    </tr>\n",
       "    <tr>\n",
       "      <th id=\"T_fbf9a_level0_row11\" class=\"row_heading level0 row11\" >11</th>\n",
       "      <td id=\"T_fbf9a_row11_col0\" class=\"data row11 col0\" >11</td>\n",
       "      <td id=\"T_fbf9a_row11_col1\" class=\"data row11 col1\" >0</td>\n",
       "      <td id=\"T_fbf9a_row11_col2\" class=\"data row11 col2\" >5106</td>\n",
       "      <td id=\"T_fbf9a_row11_col3\" class=\"data row11 col3\" >40</td>\n",
       "      <td id=\"T_fbf9a_row11_col4\" class=\"data row11 col4\" >secondary education</td>\n",
       "      <td id=\"T_fbf9a_row11_col5\" class=\"data row11 col5\" >1</td>\n",
       "      <td id=\"T_fbf9a_row11_col6\" class=\"data row11 col6\" >married</td>\n",
       "      <td id=\"T_fbf9a_row11_col7\" class=\"data row11 col7\" >0</td>\n",
       "      <td id=\"T_fbf9a_row11_col8\" class=\"data row11 col8\" >F</td>\n",
       "      <td id=\"T_fbf9a_row11_col9\" class=\"data row11 col9\" >employee</td>\n",
       "      <td id=\"T_fbf9a_row11_col10\" class=\"data row11 col10\" >0</td>\n",
       "      <td id=\"T_fbf9a_row11_col11\" class=\"data row11 col11\" >12331</td>\n",
       "      <td id=\"T_fbf9a_row11_col12\" class=\"data row11 col12\" >buy commercial real estate</td>\n",
       "    </tr>\n",
       "    <tr>\n",
       "      <th id=\"T_fbf9a_level0_row12\" class=\"row_heading level0 row12\" >12</th>\n",
       "      <td id=\"T_fbf9a_row12_col0\" class=\"data row12 col0\" >12</td>\n",
       "      <td id=\"T_fbf9a_row12_col1\" class=\"data row12 col1\" >0</td>\n",
       "      <td id=\"T_fbf9a_row12_col2\" class=\"data row12 col2\" >10656</td>\n",
       "      <td id=\"T_fbf9a_row12_col3\" class=\"data row12 col3\" >65</td>\n",
       "      <td id=\"T_fbf9a_row12_col4\" class=\"data row12 col4\" >secondary education</td>\n",
       "      <td id=\"T_fbf9a_row12_col5\" class=\"data row12 col5\" >1</td>\n",
       "      <td id=\"T_fbf9a_row12_col6\" class=\"data row12 col6\" >civil partnership</td>\n",
       "      <td id=\"T_fbf9a_row12_col7\" class=\"data row12 col7\" >1</td>\n",
       "      <td id=\"T_fbf9a_row12_col8\" class=\"data row12 col8\" >M</td>\n",
       "      <td id=\"T_fbf9a_row12_col9\" class=\"data row12 col9\" >retiree</td>\n",
       "      <td id=\"T_fbf9a_row12_col10\" class=\"data row12 col10\" >0</td>\n",
       "      <td id=\"T_fbf9a_row12_col11\" class=\"data row12 col11\" >23202</td>\n",
       "      <td id=\"T_fbf9a_row12_col12\" class=\"data row12 col12\" >to have a wedding</td>\n",
       "    </tr>\n",
       "    <tr>\n",
       "      <th id=\"T_fbf9a_level0_row13\" class=\"row_heading level0 row13\" >13</th>\n",
       "      <td id=\"T_fbf9a_row13_col0\" class=\"data row13 col0\" >13</td>\n",
       "      <td id=\"T_fbf9a_row13_col1\" class=\"data row13 col1\" >0</td>\n",
       "      <td id=\"T_fbf9a_row13_col2\" class=\"data row13 col2\" >8214</td>\n",
       "      <td id=\"T_fbf9a_row13_col3\" class=\"data row13 col3\" >54</td>\n",
       "      <td id=\"T_fbf9a_row13_col4\" class=\"data row13 col4\" >some college</td>\n",
       "      <td id=\"T_fbf9a_row13_col5\" class=\"data row13 col5\" >2</td>\n",
       "      <td id=\"T_fbf9a_row13_col6\" class=\"data row13 col6\" >married</td>\n",
       "      <td id=\"T_fbf9a_row13_col7\" class=\"data row13 col7\" >0</td>\n",
       "      <td id=\"T_fbf9a_row13_col8\" class=\"data row13 col8\" >F</td>\n",
       "      <td id=\"T_fbf9a_row13_col9\" class=\"data row13 col9\" >employee</td>\n",
       "      <td id=\"T_fbf9a_row13_col10\" class=\"data row13 col10\" >0</td>\n",
       "      <td id=\"T_fbf9a_row13_col11\" class=\"data row13 col11\" >20873</td>\n",
       "      <td id=\"T_fbf9a_row13_col12\" class=\"data row13 col12\" >car purchase</td>\n",
       "    </tr>\n",
       "    <tr>\n",
       "      <th id=\"T_fbf9a_level0_row14\" class=\"row_heading level0 row14\" >14</th>\n",
       "      <td id=\"T_fbf9a_row14_col0\" class=\"data row14 col0\" >14</td>\n",
       "      <td id=\"T_fbf9a_row14_col1\" class=\"data row14 col1\" >0</td>\n",
       "      <td id=\"T_fbf9a_row14_col2\" class=\"data row14 col2\" >8658</td>\n",
       "      <td id=\"T_fbf9a_row14_col3\" class=\"data row14 col3\" >56</td>\n",
       "      <td id=\"T_fbf9a_row14_col4\" class=\"data row14 col4\" >bachelor's degree</td>\n",
       "      <td id=\"T_fbf9a_row14_col5\" class=\"data row14 col5\" >0</td>\n",
       "      <td id=\"T_fbf9a_row14_col6\" class=\"data row14 col6\" >civil partnership</td>\n",
       "      <td id=\"T_fbf9a_row14_col7\" class=\"data row14 col7\" >1</td>\n",
       "      <td id=\"T_fbf9a_row14_col8\" class=\"data row14 col8\" >F</td>\n",
       "      <td id=\"T_fbf9a_row14_col9\" class=\"data row14 col9\" >business</td>\n",
       "      <td id=\"T_fbf9a_row14_col10\" class=\"data row14 col10\" >1</td>\n",
       "      <td id=\"T_fbf9a_row14_col11\" class=\"data row14 col11\" >26420</td>\n",
       "      <td id=\"T_fbf9a_row14_col12\" class=\"data row14 col12\" >buy residential real estate</td>\n",
       "    </tr>\n",
       "  </tbody>\n",
       "</table>\n"
      ],
      "text/plain": [
       "<pandas.io.formats.style.Styler at 0x240a02d7be0>"
      ]
     },
     "execution_count": 68,
     "metadata": {},
     "output_type": "execute_result"
    }
   ],
   "source": [
    "\n",
    "cm = sns.light_palette(\"green\", as_cmap= True)\n",
    "data_project.head(15).style.background_gradient(cmap=cm)"
   ]
  },
  {
   "cell_type": "markdown",
   "id": "e468e1f9",
   "metadata": {},
   "source": [
    "# Conclusion \n",
    " - In our data, we do not have a unique identifier for each customer. That makes things a little bit confusing. But the good thing is we have 12 columns in total, which lowers the probability of different customers having the same indicators. Additionally, duplicated rows are less than 2% of total rows. Based on these we can drop all duplicated rows."
   ]
  },
  {
   "cell_type": "markdown",
   "id": "05f17bbf",
   "metadata": {},
   "source": [
    "# Step 4 \n",
    "Categorize our data by differents tasks:\n",
    "- We need to create two new dataframe wich will has ```education``` and ```education_id``` column, and another one ```family_status``` and ```family_status_id```. That will be our dictionary and we will call them and find any data which equal by```id ``` in main data.\n",
    "- Categorize by category of salary and create a new column ```total_income_category```;\n",
    "- Categorize by purpose and create a new column  ```purpose_category```."
   ]
  },
  {
   "cell_type": "code",
   "execution_count": 69,
   "id": "4196b652",
   "metadata": {},
   "outputs": [],
   "source": [
    "education = data_project[['education','education_id']]# creating first data frame"
   ]
  },
  {
   "cell_type": "code",
   "execution_count": 70,
   "id": "83019ad2",
   "metadata": {},
   "outputs": [
    {
     "data": {
      "text/html": [
       "<div>\n",
       "<style scoped>\n",
       "    .dataframe tbody tr th:only-of-type {\n",
       "        vertical-align: middle;\n",
       "    }\n",
       "\n",
       "    .dataframe tbody tr th {\n",
       "        vertical-align: top;\n",
       "    }\n",
       "\n",
       "    .dataframe thead th {\n",
       "        text-align: right;\n",
       "    }\n",
       "</style>\n",
       "<table border=\"1\" class=\"dataframe\">\n",
       "  <thead>\n",
       "    <tr style=\"text-align: right;\">\n",
       "      <th></th>\n",
       "      <th>education</th>\n",
       "      <th>education_id</th>\n",
       "    </tr>\n",
       "  </thead>\n",
       "  <tbody>\n",
       "    <tr>\n",
       "      <th>7892</th>\n",
       "      <td>bachelor's degree</td>\n",
       "      <td>0</td>\n",
       "    </tr>\n",
       "    <tr>\n",
       "      <th>14956</th>\n",
       "      <td>secondary education</td>\n",
       "      <td>1</td>\n",
       "    </tr>\n",
       "    <tr>\n",
       "      <th>9168</th>\n",
       "      <td>secondary education</td>\n",
       "      <td>1</td>\n",
       "    </tr>\n",
       "    <tr>\n",
       "      <th>14846</th>\n",
       "      <td>secondary education</td>\n",
       "      <td>1</td>\n",
       "    </tr>\n",
       "    <tr>\n",
       "      <th>7161</th>\n",
       "      <td>secondary education</td>\n",
       "      <td>1</td>\n",
       "    </tr>\n",
       "  </tbody>\n",
       "</table>\n",
       "</div>"
      ],
      "text/plain": [
       "                 education  education_id\n",
       "7892     bachelor's degree             0\n",
       "14956  secondary education             1\n",
       "9168   secondary education             1\n",
       "14846  secondary education             1\n",
       "7161   secondary education             1"
      ]
     },
     "execution_count": 70,
     "metadata": {},
     "output_type": "execute_result"
    }
   ],
   "source": [
    "education.sample(5)"
   ]
  },
  {
   "cell_type": "code",
   "execution_count": 71,
   "id": "0cbd4aba",
   "metadata": {},
   "outputs": [],
   "source": [
    "family = data_project[['family_status','family_status_id']]# creating second data frame"
   ]
  },
  {
   "cell_type": "code",
   "execution_count": 72,
   "id": "4e67f804",
   "metadata": {},
   "outputs": [
    {
     "data": {
      "text/html": [
       "<div>\n",
       "<style scoped>\n",
       "    .dataframe tbody tr th:only-of-type {\n",
       "        vertical-align: middle;\n",
       "    }\n",
       "\n",
       "    .dataframe tbody tr th {\n",
       "        vertical-align: top;\n",
       "    }\n",
       "\n",
       "    .dataframe thead th {\n",
       "        text-align: right;\n",
       "    }\n",
       "</style>\n",
       "<table border=\"1\" class=\"dataframe\">\n",
       "  <thead>\n",
       "    <tr style=\"text-align: right;\">\n",
       "      <th></th>\n",
       "      <th>family_status</th>\n",
       "      <th>family_status_id</th>\n",
       "    </tr>\n",
       "  </thead>\n",
       "  <tbody>\n",
       "    <tr>\n",
       "      <th>3696</th>\n",
       "      <td>civil partnership</td>\n",
       "      <td>1</td>\n",
       "    </tr>\n",
       "    <tr>\n",
       "      <th>5046</th>\n",
       "      <td>unmarried</td>\n",
       "      <td>4</td>\n",
       "    </tr>\n",
       "    <tr>\n",
       "      <th>12825</th>\n",
       "      <td>married</td>\n",
       "      <td>0</td>\n",
       "    </tr>\n",
       "    <tr>\n",
       "      <th>1401</th>\n",
       "      <td>civil partnership</td>\n",
       "      <td>1</td>\n",
       "    </tr>\n",
       "    <tr>\n",
       "      <th>10853</th>\n",
       "      <td>married</td>\n",
       "      <td>0</td>\n",
       "    </tr>\n",
       "  </tbody>\n",
       "</table>\n",
       "</div>"
      ],
      "text/plain": [
       "           family_status  family_status_id\n",
       "3696   civil partnership                 1\n",
       "5046           unmarried                 4\n",
       "12825            married                 0\n",
       "1401   civil partnership                 1\n",
       "10853            married                 0"
      ]
     },
     "execution_count": 72,
     "metadata": {},
     "output_type": "execute_result"
    }
   ],
   "source": [
    "family.sample(5)"
   ]
  },
  {
   "cell_type": "markdown",
   "id": "5d3d41dd",
   "metadata": {},
   "source": [
    " - "
   ]
  },
  {
   "cell_type": "markdown",
   "id": "40649c17",
   "metadata": {},
   "source": [
    "# Total_income_category\n",
    ">Now we need to create a new column \"total_income_category\" which will categorize our people by salary per month"
   ]
  },
  {
   "cell_type": "code",
   "execution_count": 73,
   "id": "70d1dca2",
   "metadata": {},
   "outputs": [],
   "source": [
    "total_income = pd.Series({'E':'0-30000','D':'30000-50000','C':'50001-200000','B':'200001-1000000','A':'1000001+'})"
   ]
  },
  {
   "cell_type": "code",
   "execution_count": 74,
   "id": "c6417082",
   "metadata": {},
   "outputs": [],
   "source": [
    "total_income.name = 'total_income_category' #give the name to our column inside the table"
   ]
  },
  {
   "cell_type": "code",
   "execution_count": 75,
   "id": "bf48073c",
   "metadata": {},
   "outputs": [],
   "source": [
    "total_income_category = pd.DataFrame(total_income)# convert to dataframe"
   ]
  },
  {
   "cell_type": "code",
   "execution_count": 76,
   "id": "67f9af0a",
   "metadata": {},
   "outputs": [
    {
     "data": {
      "text/html": [
       "<div>\n",
       "<style scoped>\n",
       "    .dataframe tbody tr th:only-of-type {\n",
       "        vertical-align: middle;\n",
       "    }\n",
       "\n",
       "    .dataframe tbody tr th {\n",
       "        vertical-align: top;\n",
       "    }\n",
       "\n",
       "    .dataframe thead th {\n",
       "        text-align: right;\n",
       "    }\n",
       "</style>\n",
       "<table border=\"1\" class=\"dataframe\">\n",
       "  <thead>\n",
       "    <tr style=\"text-align: right;\">\n",
       "      <th></th>\n",
       "      <th>total_income_category</th>\n",
       "    </tr>\n",
       "  </thead>\n",
       "  <tbody>\n",
       "    <tr>\n",
       "      <th>E</th>\n",
       "      <td>0-30000</td>\n",
       "    </tr>\n",
       "    <tr>\n",
       "      <th>D</th>\n",
       "      <td>30000-50000</td>\n",
       "    </tr>\n",
       "    <tr>\n",
       "      <th>C</th>\n",
       "      <td>50001-200000</td>\n",
       "    </tr>\n",
       "    <tr>\n",
       "      <th>B</th>\n",
       "      <td>200001-1000000</td>\n",
       "    </tr>\n",
       "    <tr>\n",
       "      <th>A</th>\n",
       "      <td>1000001+</td>\n",
       "    </tr>\n",
       "  </tbody>\n",
       "</table>\n",
       "</div>"
      ],
      "text/plain": [
       "  total_income_category\n",
       "E               0-30000\n",
       "D           30000-50000\n",
       "C          50001-200000\n",
       "B        200001-1000000\n",
       "A              1000001+"
      ]
     },
     "execution_count": 76,
     "metadata": {},
     "output_type": "execute_result"
    }
   ],
   "source": [
    "total_income_category"
   ]
  },
  {
   "cell_type": "code",
   "execution_count": 77,
   "id": "d09991eb",
   "metadata": {},
   "outputs": [],
   "source": [
    "# Functio's wich group our clients by their salary\n",
    "def total_income(row):\n",
    "    salary = row['salary']\n",
    "    if  salary <= 30000:\n",
    "        return 'E'\n",
    "    elif salary<= 50000:\n",
    "        return 'D'\n",
    "    elif salary <= 200000:\n",
    "        return 'C'\n",
    "    elif salary <= 1000000:\n",
    "        return 'B'\n",
    "    return 'A'\n",
    "    \n",
    "    "
   ]
  },
  {
   "cell_type": "markdown",
   "id": "34aaa3cc",
   "metadata": {},
   "source": [
    ">Now we will use these functions and method apply to create a new column  and merge her into  main data"
   ]
  },
  {
   "cell_type": "code",
   "execution_count": 78,
   "id": "5b83e7a1",
   "metadata": {
    "scrolled": true
   },
   "outputs": [
    {
     "data": {
      "text/html": [
       "<div>\n",
       "<style scoped>\n",
       "    .dataframe tbody tr th:only-of-type {\n",
       "        vertical-align: middle;\n",
       "    }\n",
       "\n",
       "    .dataframe tbody tr th {\n",
       "        vertical-align: top;\n",
       "    }\n",
       "\n",
       "    .dataframe thead th {\n",
       "        text-align: right;\n",
       "    }\n",
       "</style>\n",
       "<table border=\"1\" class=\"dataframe\">\n",
       "  <thead>\n",
       "    <tr style=\"text-align: right;\">\n",
       "      <th></th>\n",
       "      <th>index</th>\n",
       "      <th>children</th>\n",
       "      <th>days_employed</th>\n",
       "      <th>age</th>\n",
       "      <th>education</th>\n",
       "      <th>education_id</th>\n",
       "      <th>family_status</th>\n",
       "      <th>family_status_id</th>\n",
       "      <th>gender</th>\n",
       "      <th>work_types</th>\n",
       "      <th>debt</th>\n",
       "      <th>salary</th>\n",
       "      <th>purpose</th>\n",
       "      <th>total_income_category</th>\n",
       "    </tr>\n",
       "  </thead>\n",
       "  <tbody>\n",
       "    <tr>\n",
       "      <th>0</th>\n",
       "      <td>0</td>\n",
       "      <td>1</td>\n",
       "      <td>5550</td>\n",
       "      <td>42</td>\n",
       "      <td>bachelor's degree</td>\n",
       "      <td>0</td>\n",
       "      <td>married</td>\n",
       "      <td>0</td>\n",
       "      <td>F</td>\n",
       "      <td>employee</td>\n",
       "      <td>0</td>\n",
       "      <td>40620</td>\n",
       "      <td>purchase of the house</td>\n",
       "      <td>D</td>\n",
       "    </tr>\n",
       "    <tr>\n",
       "      <th>1</th>\n",
       "      <td>1</td>\n",
       "      <td>1</td>\n",
       "      <td>4218</td>\n",
       "      <td>36</td>\n",
       "      <td>secondary education</td>\n",
       "      <td>1</td>\n",
       "      <td>married</td>\n",
       "      <td>0</td>\n",
       "      <td>F</td>\n",
       "      <td>employee</td>\n",
       "      <td>0</td>\n",
       "      <td>17932</td>\n",
       "      <td>car purchase</td>\n",
       "      <td>E</td>\n",
       "    </tr>\n",
       "    <tr>\n",
       "      <th>2</th>\n",
       "      <td>2</td>\n",
       "      <td>0</td>\n",
       "      <td>3552</td>\n",
       "      <td>33</td>\n",
       "      <td>secondary education</td>\n",
       "      <td>1</td>\n",
       "      <td>married</td>\n",
       "      <td>0</td>\n",
       "      <td>M</td>\n",
       "      <td>employee</td>\n",
       "      <td>0</td>\n",
       "      <td>23341</td>\n",
       "      <td>purchase of the house</td>\n",
       "      <td>E</td>\n",
       "    </tr>\n",
       "    <tr>\n",
       "      <th>3</th>\n",
       "      <td>3</td>\n",
       "      <td>3</td>\n",
       "      <td>3330</td>\n",
       "      <td>32</td>\n",
       "      <td>secondary education</td>\n",
       "      <td>1</td>\n",
       "      <td>married</td>\n",
       "      <td>0</td>\n",
       "      <td>M</td>\n",
       "      <td>employee</td>\n",
       "      <td>0</td>\n",
       "      <td>42820</td>\n",
       "      <td>supplementary education</td>\n",
       "      <td>D</td>\n",
       "    </tr>\n",
       "    <tr>\n",
       "      <th>4</th>\n",
       "      <td>4</td>\n",
       "      <td>0</td>\n",
       "      <td>7992</td>\n",
       "      <td>53</td>\n",
       "      <td>secondary education</td>\n",
       "      <td>1</td>\n",
       "      <td>civil partnership</td>\n",
       "      <td>1</td>\n",
       "      <td>F</td>\n",
       "      <td>retiree</td>\n",
       "      <td>0</td>\n",
       "      <td>25378</td>\n",
       "      <td>to have a wedding</td>\n",
       "      <td>E</td>\n",
       "    </tr>\n",
       "    <tr>\n",
       "      <th>5</th>\n",
       "      <td>5</td>\n",
       "      <td>0</td>\n",
       "      <td>2220</td>\n",
       "      <td>27</td>\n",
       "      <td>bachelor's degree</td>\n",
       "      <td>0</td>\n",
       "      <td>civil partnership</td>\n",
       "      <td>1</td>\n",
       "      <td>M</td>\n",
       "      <td>business</td>\n",
       "      <td>0</td>\n",
       "      <td>40922</td>\n",
       "      <td>purchase of the house</td>\n",
       "      <td>D</td>\n",
       "    </tr>\n",
       "    <tr>\n",
       "      <th>6</th>\n",
       "      <td>6</td>\n",
       "      <td>0</td>\n",
       "      <td>5772</td>\n",
       "      <td>43</td>\n",
       "      <td>bachelor's degree</td>\n",
       "      <td>0</td>\n",
       "      <td>married</td>\n",
       "      <td>0</td>\n",
       "      <td>F</td>\n",
       "      <td>business</td>\n",
       "      <td>0</td>\n",
       "      <td>38484</td>\n",
       "      <td>housing transactions</td>\n",
       "      <td>D</td>\n",
       "    </tr>\n",
       "    <tr>\n",
       "      <th>7</th>\n",
       "      <td>7</td>\n",
       "      <td>0</td>\n",
       "      <td>7326</td>\n",
       "      <td>50</td>\n",
       "      <td>secondary education</td>\n",
       "      <td>1</td>\n",
       "      <td>married</td>\n",
       "      <td>0</td>\n",
       "      <td>M</td>\n",
       "      <td>employee</td>\n",
       "      <td>0</td>\n",
       "      <td>21731</td>\n",
       "      <td>education</td>\n",
       "      <td>E</td>\n",
       "    </tr>\n",
       "    <tr>\n",
       "      <th>8</th>\n",
       "      <td>8</td>\n",
       "      <td>2</td>\n",
       "      <td>3996</td>\n",
       "      <td>35</td>\n",
       "      <td>bachelor's degree</td>\n",
       "      <td>0</td>\n",
       "      <td>civil partnership</td>\n",
       "      <td>1</td>\n",
       "      <td>F</td>\n",
       "      <td>employee</td>\n",
       "      <td>0</td>\n",
       "      <td>15337</td>\n",
       "      <td>having a wedding</td>\n",
       "      <td>E</td>\n",
       "    </tr>\n",
       "    <tr>\n",
       "      <th>9</th>\n",
       "      <td>9</td>\n",
       "      <td>0</td>\n",
       "      <td>5328</td>\n",
       "      <td>41</td>\n",
       "      <td>secondary education</td>\n",
       "      <td>1</td>\n",
       "      <td>married</td>\n",
       "      <td>0</td>\n",
       "      <td>M</td>\n",
       "      <td>employee</td>\n",
       "      <td>0</td>\n",
       "      <td>23108</td>\n",
       "      <td>purchase of the house for my family</td>\n",
       "      <td>E</td>\n",
       "    </tr>\n",
       "  </tbody>\n",
       "</table>\n",
       "</div>"
      ],
      "text/plain": [
       "   index  children  days_employed  age            education  education_id  \\\n",
       "0      0         1           5550   42    bachelor's degree             0   \n",
       "1      1         1           4218   36  secondary education             1   \n",
       "2      2         0           3552   33  secondary education             1   \n",
       "3      3         3           3330   32  secondary education             1   \n",
       "4      4         0           7992   53  secondary education             1   \n",
       "5      5         0           2220   27    bachelor's degree             0   \n",
       "6      6         0           5772   43    bachelor's degree             0   \n",
       "7      7         0           7326   50  secondary education             1   \n",
       "8      8         2           3996   35    bachelor's degree             0   \n",
       "9      9         0           5328   41  secondary education             1   \n",
       "\n",
       "       family_status  family_status_id gender work_types  debt  salary  \\\n",
       "0            married                 0      F   employee     0   40620   \n",
       "1            married                 0      F   employee     0   17932   \n",
       "2            married                 0      M   employee     0   23341   \n",
       "3            married                 0      M   employee     0   42820   \n",
       "4  civil partnership                 1      F    retiree     0   25378   \n",
       "5  civil partnership                 1      M   business     0   40922   \n",
       "6            married                 0      F   business     0   38484   \n",
       "7            married                 0      M   employee     0   21731   \n",
       "8  civil partnership                 1      F   employee     0   15337   \n",
       "9            married                 0      M   employee     0   23108   \n",
       "\n",
       "                               purpose total_income_category  \n",
       "0                purchase of the house                     D  \n",
       "1                         car purchase                     E  \n",
       "2                purchase of the house                     E  \n",
       "3              supplementary education                     D  \n",
       "4                    to have a wedding                     E  \n",
       "5                purchase of the house                     D  \n",
       "6                 housing transactions                     D  \n",
       "7                            education                     E  \n",
       "8                     having a wedding                     E  \n",
       "9  purchase of the house for my family                     E  "
      ]
     },
     "execution_count": 78,
     "metadata": {},
     "output_type": "execute_result"
    }
   ],
   "source": [
    "data_project['total_income_category'] = data_project.apply(total_income, axis=1)\n",
    "data_project.head(10)"
   ]
  },
  {
   "cell_type": "markdown",
   "id": "4c3a05fb",
   "metadata": {},
   "source": [
    "> Let's sort our workers by their salary and show how many of them belong to each category "
   ]
  },
  {
   "cell_type": "code",
   "execution_count": 79,
   "id": "ff7b2d9c",
   "metadata": {},
   "outputs": [
    {
     "data": {
      "image/png": "[encoded data removed]",
      "text/plain": [
       "<Figure size 640x480 with 1 Axes>"
      ]
     },
     "metadata": {},
     "output_type": "display_data"
    }
   ],
   "source": [
    "data_project['total_income_category'].sort_values().hist();"
   ]
  },
  {
   "cell_type": "markdown",
   "id": "d9defc8b",
   "metadata": {},
   "source": [
    "> Now we can analyze that most of the workers belong to the low salary category \"A\"."
   ]
  },
  {
   "cell_type": "markdown",
   "id": "1de3225a",
   "metadata": {},
   "source": [
    "- After we categorized our workers by salary, we can take the next step. In this step, we will be grouping our clients by their purpose mean. \n"
   ]
  },
  {
   "cell_type": "markdown",
   "id": "4a5d4d6a",
   "metadata": {},
   "source": [
    "# Purpose_category"
   ]
  },
  {
   "cell_type": "markdown",
   "id": "113c5dc9",
   "metadata": {},
   "source": [
    ">Let's write a code that will sort all clients by their needs. We will create a new column with name purpose_category"
   ]
  },
  {
   "cell_type": "code",
   "execution_count": 80,
   "id": "3b4bd216",
   "metadata": {},
   "outputs": [
    {
     "data": {
      "text/plain": [
       "[('a', 5079),\n",
       " ('real', 4450),\n",
       " ('estat', 4450),\n",
       " ('car', 4297),\n",
       " ('buy', 3982),\n",
       " ('hous', 3800),\n",
       " ('educ', 3508),\n",
       " ('purchas', 3298),\n",
       " ('to', 3048),\n",
       " ('of', 2990),\n",
       " ('transact', 2598),\n",
       " ('properti', 2534),\n",
       " ('my', 2384),\n",
       " ('wed', 2301),\n",
       " ('own', 2236),\n",
       " ('have', 1516),\n",
       " ('get', 1312),\n",
       " ('commerci', 1307),\n",
       " ('for', 1284),\n",
       " ('the', 1280),\n",
       " ('with', 1273),\n",
       " ('build', 1240),\n",
       " ('second-hand', 960),\n",
       " ('univers', 947),\n",
       " ('supplementari', 903),\n",
       " ('ceremoni', 785),\n",
       " ('rent', 649),\n",
       " ('out', 649),\n",
       " ('famili', 635),\n",
       " ('construct', 635),\n",
       " ('residenti', 605),\n",
       " ('renov', 604),\n",
       " ('go', 496),\n",
       " ('an', 441),\n",
       " ('profil', 436),\n",
       " ('higher', 426),\n",
       " ('becom', 404)]"
      ]
     },
     "execution_count": 80,
     "metadata": {},
     "output_type": "execute_result"
    }
   ],
   "source": [
    "# Creating a stemmer\n",
    "stemmer = SnowballStemmer('english')\n",
    "\n",
    "\n",
    "# collect purposes in all rows, and then make a big list containing all words\n",
    "# go through all words and get their stems. Sort stems according to their frequency with Counter\n",
    "words =[]\n",
    "for sentence in data_project['purpose']:\n",
    "    word = nltk.word_tokenize(sentence)\n",
    "    for w in word:\n",
    "        stemmed = stemmer.stem(w)\n",
    "        words.append(stemmed)\n",
    "Counter(words).most_common()\n",
    "    "
   ]
  },
  {
   "cell_type": "code",
   "execution_count": 81,
   "id": "e4db6891",
   "metadata": {},
   "outputs": [],
   "source": [
    "# Now we need to create new function wich will distribute ours clients by group_purpose\n",
    "def proper_category(purpose):\n",
    "    stem = []\n",
    "    words = nltk.word_tokenize(purpose)\n",
    "    for word in words:\n",
    "        stemmed = stemmer.stem(word)\n",
    "        stem.append(stemmed)\n",
    "    if 'hous' in  stem:\n",
    "        return 'Operations with car'\n",
    "    if 'univers' in stem:\n",
    "        return 'Getting education'\n",
    "    if 'car'in stem:\n",
    "        return 'Operation with property'\n",
    "    if 'wed' in stem:\n",
    "        return 'Wedding celebretion'\n",
    "    if 'educ' in stem:\n",
    "        return 'Getting education'\n",
    "    if 'properti' in stem:\n",
    "        return 'Operation with property'\n",
    "    else:\n",
    "        return 'Another operations'\n"
   ]
  },
  {
   "cell_type": "code",
   "execution_count": 82,
   "id": "1e032f2f",
   "metadata": {},
   "outputs": [],
   "source": [
    "# Creating a new column and apply our function to this column\n",
    "data_project['purpose_category'] = data_project['purpose'].apply(proper_category)"
   ]
  },
  {
   "cell_type": "code",
   "execution_count": 83,
   "id": "c677a2bf",
   "metadata": {},
   "outputs": [
    {
     "data": {
      "text/plain": [
       "array(['Operations with car', 'Operation with property',\n",
       "       'Getting education', 'Wedding celebretion', 'Another operations'],\n",
       "      dtype=object)"
      ]
     },
     "execution_count": 83,
     "metadata": {},
     "output_type": "execute_result"
    }
   ],
   "source": [
    "# Checking if our function working  correctly\n",
    "data_project['purpose_category'].unique()"
   ]
  },
  {
   "cell_type": "code",
   "execution_count": 84,
   "id": "8b558172",
   "metadata": {
    "scrolled": false
   },
   "outputs": [
    {
     "data": {
      "text/html": [
       "<div>\n",
       "<style scoped>\n",
       "    .dataframe tbody tr th:only-of-type {\n",
       "        vertical-align: middle;\n",
       "    }\n",
       "\n",
       "    .dataframe tbody tr th {\n",
       "        vertical-align: top;\n",
       "    }\n",
       "\n",
       "    .dataframe thead th {\n",
       "        text-align: right;\n",
       "    }\n",
       "</style>\n",
       "<table border=\"1\" class=\"dataframe\">\n",
       "  <thead>\n",
       "    <tr style=\"text-align: right;\">\n",
       "      <th></th>\n",
       "      <th>index</th>\n",
       "      <th>children</th>\n",
       "      <th>days_employed</th>\n",
       "      <th>age</th>\n",
       "      <th>education</th>\n",
       "      <th>education_id</th>\n",
       "      <th>family_status</th>\n",
       "      <th>family_status_id</th>\n",
       "      <th>gender</th>\n",
       "      <th>work_types</th>\n",
       "      <th>debt</th>\n",
       "      <th>salary</th>\n",
       "      <th>purpose</th>\n",
       "      <th>total_income_category</th>\n",
       "      <th>purpose_category</th>\n",
       "    </tr>\n",
       "  </thead>\n",
       "  <tbody>\n",
       "    <tr>\n",
       "      <th>0</th>\n",
       "      <td>0</td>\n",
       "      <td>1</td>\n",
       "      <td>5550</td>\n",
       "      <td>42</td>\n",
       "      <td>bachelor's degree</td>\n",
       "      <td>0</td>\n",
       "      <td>married</td>\n",
       "      <td>0</td>\n",
       "      <td>F</td>\n",
       "      <td>employee</td>\n",
       "      <td>0</td>\n",
       "      <td>40620</td>\n",
       "      <td>purchase of the house</td>\n",
       "      <td>D</td>\n",
       "      <td>Operations with car</td>\n",
       "    </tr>\n",
       "    <tr>\n",
       "      <th>1</th>\n",
       "      <td>1</td>\n",
       "      <td>1</td>\n",
       "      <td>4218</td>\n",
       "      <td>36</td>\n",
       "      <td>secondary education</td>\n",
       "      <td>1</td>\n",
       "      <td>married</td>\n",
       "      <td>0</td>\n",
       "      <td>F</td>\n",
       "      <td>employee</td>\n",
       "      <td>0</td>\n",
       "      <td>17932</td>\n",
       "      <td>car purchase</td>\n",
       "      <td>E</td>\n",
       "      <td>Operation with property</td>\n",
       "    </tr>\n",
       "    <tr>\n",
       "      <th>2</th>\n",
       "      <td>2</td>\n",
       "      <td>0</td>\n",
       "      <td>3552</td>\n",
       "      <td>33</td>\n",
       "      <td>secondary education</td>\n",
       "      <td>1</td>\n",
       "      <td>married</td>\n",
       "      <td>0</td>\n",
       "      <td>M</td>\n",
       "      <td>employee</td>\n",
       "      <td>0</td>\n",
       "      <td>23341</td>\n",
       "      <td>purchase of the house</td>\n",
       "      <td>E</td>\n",
       "      <td>Operations with car</td>\n",
       "    </tr>\n",
       "    <tr>\n",
       "      <th>3</th>\n",
       "      <td>3</td>\n",
       "      <td>3</td>\n",
       "      <td>3330</td>\n",
       "      <td>32</td>\n",
       "      <td>secondary education</td>\n",
       "      <td>1</td>\n",
       "      <td>married</td>\n",
       "      <td>0</td>\n",
       "      <td>M</td>\n",
       "      <td>employee</td>\n",
       "      <td>0</td>\n",
       "      <td>42820</td>\n",
       "      <td>supplementary education</td>\n",
       "      <td>D</td>\n",
       "      <td>Getting education</td>\n",
       "    </tr>\n",
       "    <tr>\n",
       "      <th>4</th>\n",
       "      <td>4</td>\n",
       "      <td>0</td>\n",
       "      <td>7992</td>\n",
       "      <td>53</td>\n",
       "      <td>secondary education</td>\n",
       "      <td>1</td>\n",
       "      <td>civil partnership</td>\n",
       "      <td>1</td>\n",
       "      <td>F</td>\n",
       "      <td>retiree</td>\n",
       "      <td>0</td>\n",
       "      <td>25378</td>\n",
       "      <td>to have a wedding</td>\n",
       "      <td>E</td>\n",
       "      <td>Wedding celebretion</td>\n",
       "    </tr>\n",
       "    <tr>\n",
       "      <th>5</th>\n",
       "      <td>5</td>\n",
       "      <td>0</td>\n",
       "      <td>2220</td>\n",
       "      <td>27</td>\n",
       "      <td>bachelor's degree</td>\n",
       "      <td>0</td>\n",
       "      <td>civil partnership</td>\n",
       "      <td>1</td>\n",
       "      <td>M</td>\n",
       "      <td>business</td>\n",
       "      <td>0</td>\n",
       "      <td>40922</td>\n",
       "      <td>purchase of the house</td>\n",
       "      <td>D</td>\n",
       "      <td>Operations with car</td>\n",
       "    </tr>\n",
       "    <tr>\n",
       "      <th>6</th>\n",
       "      <td>6</td>\n",
       "      <td>0</td>\n",
       "      <td>5772</td>\n",
       "      <td>43</td>\n",
       "      <td>bachelor's degree</td>\n",
       "      <td>0</td>\n",
       "      <td>married</td>\n",
       "      <td>0</td>\n",
       "      <td>F</td>\n",
       "      <td>business</td>\n",
       "      <td>0</td>\n",
       "      <td>38484</td>\n",
       "      <td>housing transactions</td>\n",
       "      <td>D</td>\n",
       "      <td>Operations with car</td>\n",
       "    </tr>\n",
       "    <tr>\n",
       "      <th>7</th>\n",
       "      <td>7</td>\n",
       "      <td>0</td>\n",
       "      <td>7326</td>\n",
       "      <td>50</td>\n",
       "      <td>secondary education</td>\n",
       "      <td>1</td>\n",
       "      <td>married</td>\n",
       "      <td>0</td>\n",
       "      <td>M</td>\n",
       "      <td>employee</td>\n",
       "      <td>0</td>\n",
       "      <td>21731</td>\n",
       "      <td>education</td>\n",
       "      <td>E</td>\n",
       "      <td>Getting education</td>\n",
       "    </tr>\n",
       "    <tr>\n",
       "      <th>8</th>\n",
       "      <td>8</td>\n",
       "      <td>2</td>\n",
       "      <td>3996</td>\n",
       "      <td>35</td>\n",
       "      <td>bachelor's degree</td>\n",
       "      <td>0</td>\n",
       "      <td>civil partnership</td>\n",
       "      <td>1</td>\n",
       "      <td>F</td>\n",
       "      <td>employee</td>\n",
       "      <td>0</td>\n",
       "      <td>15337</td>\n",
       "      <td>having a wedding</td>\n",
       "      <td>E</td>\n",
       "      <td>Wedding celebretion</td>\n",
       "    </tr>\n",
       "    <tr>\n",
       "      <th>9</th>\n",
       "      <td>9</td>\n",
       "      <td>0</td>\n",
       "      <td>5328</td>\n",
       "      <td>41</td>\n",
       "      <td>secondary education</td>\n",
       "      <td>1</td>\n",
       "      <td>married</td>\n",
       "      <td>0</td>\n",
       "      <td>M</td>\n",
       "      <td>employee</td>\n",
       "      <td>0</td>\n",
       "      <td>23108</td>\n",
       "      <td>purchase of the house for my family</td>\n",
       "      <td>E</td>\n",
       "      <td>Operations with car</td>\n",
       "    </tr>\n",
       "  </tbody>\n",
       "</table>\n",
       "</div>"
      ],
      "text/plain": [
       "   index  children  days_employed  age            education  education_id  \\\n",
       "0      0         1           5550   42    bachelor's degree             0   \n",
       "1      1         1           4218   36  secondary education             1   \n",
       "2      2         0           3552   33  secondary education             1   \n",
       "3      3         3           3330   32  secondary education             1   \n",
       "4      4         0           7992   53  secondary education             1   \n",
       "5      5         0           2220   27    bachelor's degree             0   \n",
       "6      6         0           5772   43    bachelor's degree             0   \n",
       "7      7         0           7326   50  secondary education             1   \n",
       "8      8         2           3996   35    bachelor's degree             0   \n",
       "9      9         0           5328   41  secondary education             1   \n",
       "\n",
       "       family_status  family_status_id gender work_types  debt  salary  \\\n",
       "0            married                 0      F   employee     0   40620   \n",
       "1            married                 0      F   employee     0   17932   \n",
       "2            married                 0      M   employee     0   23341   \n",
       "3            married                 0      M   employee     0   42820   \n",
       "4  civil partnership                 1      F    retiree     0   25378   \n",
       "5  civil partnership                 1      M   business     0   40922   \n",
       "6            married                 0      F   business     0   38484   \n",
       "7            married                 0      M   employee     0   21731   \n",
       "8  civil partnership                 1      F   employee     0   15337   \n",
       "9            married                 0      M   employee     0   23108   \n",
       "\n",
       "                               purpose total_income_category  \\\n",
       "0                purchase of the house                     D   \n",
       "1                         car purchase                     E   \n",
       "2                purchase of the house                     E   \n",
       "3              supplementary education                     D   \n",
       "4                    to have a wedding                     E   \n",
       "5                purchase of the house                     D   \n",
       "6                 housing transactions                     D   \n",
       "7                            education                     E   \n",
       "8                     having a wedding                     E   \n",
       "9  purchase of the house for my family                     E   \n",
       "\n",
       "          purpose_category  \n",
       "0      Operations with car  \n",
       "1  Operation with property  \n",
       "2      Operations with car  \n",
       "3        Getting education  \n",
       "4      Wedding celebretion  \n",
       "5      Operations with car  \n",
       "6      Operations with car  \n",
       "7        Getting education  \n",
       "8      Wedding celebretion  \n",
       "9      Operations with car  "
      ]
     },
     "execution_count": 84,
     "metadata": {},
     "output_type": "execute_result"
    }
   ],
   "source": [
    "data_project.head(10)"
   ]
  },
  {
   "cell_type": "markdown",
   "id": "966cacc1",
   "metadata": {},
   "source": [
    "> Now let's find out what type of purpose is most usual in our data"
   ]
  },
  {
   "cell_type": "code",
   "execution_count": 85,
   "id": "97c3c221",
   "metadata": {},
   "outputs": [
    {
     "data": {
      "text/html": [
       "<style type=\"text/css\">\n",
       "#T_cb25c_row0_col0 {\n",
       "  background-color: #008000;\n",
       "  color: #f1f1f1;\n",
       "}\n",
       "#T_cb25c_row1_col0 {\n",
       "  background-color: #7bbc7b;\n",
       "  color: #000000;\n",
       "}\n",
       "#T_cb25c_row2_col0 {\n",
       "  background-color: #92c892;\n",
       "  color: #000000;\n",
       "}\n",
       "#T_cb25c_row3_col0 {\n",
       "  background-color: #9dcd9d;\n",
       "  color: #000000;\n",
       "}\n",
       "#T_cb25c_row4_col0 {\n",
       "  background-color: #ebf3eb;\n",
       "  color: #000000;\n",
       "}\n",
       "</style>\n",
       "<table id=\"T_cb25c\">\n",
       "  <thead>\n",
       "    <tr>\n",
       "      <th class=\"blank level0\" >&nbsp;</th>\n",
       "      <th id=\"T_cb25c_level0_col0\" class=\"col_heading level0 col0\" >purpose_category</th>\n",
       "    </tr>\n",
       "  </thead>\n",
       "  <tbody>\n",
       "    <tr>\n",
       "      <th id=\"T_cb25c_level0_row0\" class=\"row_heading level0 row0\" >Operation with property</th>\n",
       "      <td id=\"T_cb25c_row0_col0\" class=\"data row0 col0\" >6831</td>\n",
       "    </tr>\n",
       "    <tr>\n",
       "      <th id=\"T_cb25c_level0_row1\" class=\"row_heading level0 row1\" >Another operations</th>\n",
       "      <td id=\"T_cb25c_row1_col0\" class=\"data row1 col0\" >4450</td>\n",
       "    </tr>\n",
       "    <tr>\n",
       "      <th id=\"T_cb25c_level0_row2\" class=\"row_heading level0 row2\" >Getting education</th>\n",
       "      <td id=\"T_cb25c_row2_col0\" class=\"data row2 col0\" >4004</td>\n",
       "    </tr>\n",
       "    <tr>\n",
       "      <th id=\"T_cb25c_level0_row3\" class=\"row_heading level0 row3\" >Operations with car</th>\n",
       "      <td id=\"T_cb25c_row3_col0\" class=\"data row3 col0\" >3800</td>\n",
       "    </tr>\n",
       "    <tr>\n",
       "      <th id=\"T_cb25c_level0_row4\" class=\"row_heading level0 row4\" >Wedding celebretion</th>\n",
       "      <td id=\"T_cb25c_row4_col0\" class=\"data row4 col0\" >2301</td>\n",
       "    </tr>\n",
       "  </tbody>\n",
       "</table>\n"
      ],
      "text/plain": [
       "<pandas.io.formats.style.Styler at 0x240a09640a0>"
      ]
     },
     "execution_count": 85,
     "metadata": {},
     "output_type": "execute_result"
    }
   ],
   "source": [
    "#Creating a new column which will show us the most usual type of purpose, and using some visualization\n",
    "purpose_cat = data_project['purpose_category'].value_counts()\n",
    "purpose_cat = pd.DataFrame(purpose_cat)\n",
    "purpose_cat.style.background_gradient(cmap=cm)"
   ]
  },
  {
   "cell_type": "code",
   "execution_count": 87,
   "id": "b4fded76",
   "metadata": {},
   "outputs": [
    {
     "data": {
      "image/png": "[encoded data removed]",
      "text/plain": [
       "<Figure size 640x480 with 1 Axes>"
      ]
     },
     "metadata": {},
     "output_type": "display_data"
    }
   ],
   "source": [
    "purpose_cat.plot.barh();"
   ]
  },
  {
   "cell_type": "markdown",
   "id": "b4118d49",
   "metadata": {},
   "source": [
    "# Conclusion\n",
    "- Categorization of the purposes was performed in the previous task. So here we have categorized total_income each customer get according to if they are below or above the specific quartile of the data.\n",
    "- After we created a new column by using purpose from our clients we found that the most wanted purpose is  Operation with properties"
   ]
  },
  {
   "cell_type": "markdown",
   "id": "dbd3d37c",
   "metadata": {},
   "source": [
    "# Step 3\n",
    "Now we will answer the question by showing following examples from our data\n",
    "- Is there a relationship between the number of children and loan repayment on time? \n",
    "- Is there a relationship between the family status and loan repayment on time? \n",
    "- Is there a relationship between the total_income and loan repayment on time? \n",
    "- How differents type of purpose and loan repayment on time? "
   ]
  },
  {
   "cell_type": "markdown",
   "id": "bcea6119",
   "metadata": {},
   "source": [
    "> First let's grouped our children by category and show how much debt each  category has\n"
   ]
  },
  {
   "cell_type": "code",
   "execution_count": 88,
   "id": "be299619",
   "metadata": {},
   "outputs": [
    {
     "data": {
      "image/png": "[encoded data removed]",
      "text/plain": [
       "<Figure size 640x480 with 1 Axes>"
      ]
     },
     "metadata": {},
     "output_type": "display_data"
    }
   ],
   "source": [
    " data_project.groupby(['children'])['debt'].sum().plot.pie();"
   ]
  },
  {
   "cell_type": "markdown",
   "id": "9e5e7d0c",
   "metadata": {},
   "source": [
    "> What we see from this table is that most people who didn't pay the loan on time, don't have any child"
   ]
  },
  {
   "cell_type": "code",
   "execution_count": 89,
   "id": "9457a7d3",
   "metadata": {},
   "outputs": [],
   "source": [
    "#Now we will find what types of family status has most of the debt by grouping them and finding counts  of their debt\n",
    "Family_stat_debt = data_project.groupby(['family_status'])['debt'].sum().sort_values(ascending = False)"
   ]
  },
  {
   "cell_type": "code",
   "execution_count": 90,
   "id": "ecd189c9",
   "metadata": {},
   "outputs": [
    {
     "data": {
      "image/png": "[encoded data removed]",
      "text/plain": [
       "<Figure size 640x480 with 1 Axes>"
      ]
     },
     "metadata": {},
     "output_type": "display_data"
    }
   ],
   "source": [
    "Family_stat_debt.plot.bar(rot=45);"
   ]
  },
  {
   "cell_type": "markdown",
   "id": "a2784ec8",
   "metadata": {},
   "source": [
    "> It seems most of the credit debt has married people"
   ]
  },
  {
   "cell_type": "code",
   "execution_count": 91,
   "id": "186c021b",
   "metadata": {},
   "outputs": [],
   "source": [
    "#Here we will check what types of categories by salary clients have the biggest problem with debt by grouping them and finding counts of debt\n",
    "total_income_debt = data_project.groupby(['total_income_category'])['debt'].sum().sort_values(ascending = False)"
   ]
  },
  {
   "cell_type": "code",
   "execution_count": 92,
   "id": "253220f3",
   "metadata": {},
   "outputs": [
    {
     "data": {
      "image/png": "[encoded data removed]",
      "text/plain": [
       "<Figure size 640x480 with 1 Axes>"
      ]
     },
     "metadata": {},
     "output_type": "display_data"
    }
   ],
   "source": [
    "total_income_debt.plot.barh();"
   ]
  },
  {
   "cell_type": "markdown",
   "id": "af6716e3",
   "metadata": {},
   "source": [
    "> Here we have that people with smallest salary have the bigger problems with paying loans on time"
   ]
  },
  {
   "cell_type": "code",
   "execution_count": 93,
   "id": "d8f38623",
   "metadata": {},
   "outputs": [
    {
     "data": {
      "text/plain": [
       "purpose_category\n",
       "Operation with property    593.0\n",
       "Getting education          370.0\n",
       "Another operations         336.0\n",
       "Operations with car        256.0\n",
       "Wedding celebretion        186.0\n",
       "Name: debt, dtype: float64"
      ]
     },
     "execution_count": 93,
     "metadata": {},
     "output_type": "execute_result"
    }
   ],
   "source": [
    "#Let's find out what type of purpose is most common and showing it \n",
    "data_project.groupby(['purpose_category'])['debt'].sum().sort_values(ascending = False)"
   ]
  },
  {
   "cell_type": "code",
   "execution_count": 94,
   "id": "34d378fe",
   "metadata": {},
   "outputs": [
    {
     "data": {
      "image/png": "[encoded data removed]",
      "text/plain": [
       "<Figure size 640x480 with 1 Axes>"
      ]
     },
     "metadata": {},
     "output_type": "display_data"
    }
   ],
   "source": [
    "data_project.groupby(['purpose_category'])['debt'].sum().plot.barh();"
   ]
  },
  {
   "cell_type": "markdown",
   "id": "61f2edd3",
   "metadata": {},
   "source": [
    "# Conclusion\n",
    "> After we reprocessed and analyzed our data we can say that most problems with paying loans on time have people:\n",
    "- With the smallest salary; \n",
    "- In  married family status;\n",
    "- And wanna do some operation with property;"
   ]
  }
 ],
 "metadata": {
  "hide_input": false,
  "kernelspec": {
   "display_name": "Python 3 (ipykernel)",
   "language": "python",
   "name": "python3"
  },
  "language_info": {
   "codemirror_mode": {
    "name": "ipython",
    "version": 3
   },
   "file_extension": ".py",
   "mimetype": "text/x-python",
   "name": "python",
   "nbconvert_exporter": "python",
   "pygments_lexer": "ipython3",
   "version": "3.9.13"
  },
  "toc": {
   "base_numbering": 1,
   "nav_menu": {},
   "number_sections": true,
   "sideBar": true,
   "skip_h1_title": false,
   "title_cell": "Table of Contents",
   "title_sidebar": "Contents",
   "toc_cell": false,
   "toc_position": {},
   "toc_section_display": true,
   "toc_window_display": false
  },
  "varInspector": {
   "cols": {
    "lenName": 16,
    "lenType": 16,
    "lenVar": 40
   },
   "kernels_config": {
    "python": {
     "delete_cmd_postfix": "",
     "delete_cmd_prefix": "del ",
     "library": "var_list.py",
     "varRefreshCmd": "print(var_dic_list())"
    },
    "r": {
     "delete_cmd_postfix": ") ",
     "delete_cmd_prefix": "rm(",
     "library": "var_list.r",
     "varRefreshCmd": "cat(var_dic_list()) "
    }
   },
   "types_to_exclude": [
    "module",
    "function",
    "builtin_function_or_method",
    "instance",
    "_Feature"
   ],
   "window_display": false
  }
 },
 "nbformat": 4,
 "nbformat_minor": 5
}
